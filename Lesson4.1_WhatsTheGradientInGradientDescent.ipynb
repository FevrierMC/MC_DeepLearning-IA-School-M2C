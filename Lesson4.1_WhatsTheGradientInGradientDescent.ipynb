{
 "cells": [
  {
   "cell_type": "code",
   "execution_count": 1,
   "metadata": {},
   "outputs": [],
   "source": [
    "import pandas as pd\n",
    "import numpy as np\n",
    "import torch\n",
    "import math\n",
    "from functools import partial\n",
    "import matplotlib.pyplot as plt"
   ]
  },
  {
   "cell_type": "code",
   "execution_count": 2,
   "metadata": {},
   "outputs": [
    {
     "name": "stderr",
     "output_type": "stream",
     "text": [
      "/home/benjamin/anaconda3/lib/python3.7/site-packages/fastbook/__init__.py:22: UserWarning: Missing `graphviz` - please run `conda install fastbook`\n",
      "  except ModuleNotFoundError: warn(\"Missing `graphviz` - please run `conda install fastbook`\")\n"
     ]
    }
   ],
   "source": [
    "import fastbook\n",
    "fastbook.setup_book()\n",
    "\n",
    "#hide\n",
    "from fastbook import *"
   ]
  },
  {
   "cell_type": "markdown",
   "metadata": {},
   "source": [
    "In last week's exercices and in this week's lesson, you've discovered gradient descent at work. The fact that it could be that simple (just make a bunch of calculations, and let the model learn) usually puzzles the beginners. I think it helps to understand the intuition between derivatives and gradients.\n",
    "\n",
    "This notebook will give you an understanding of derivatives using code, maths, and images. I hope you like my approach to explaining it all :)"
   ]
  },
  {
   "cell_type": "markdown",
   "metadata": {
    "id": "Tm7NnEBAG5hu"
   },
   "source": [
    "# WHY do we calculate those gradient ? How does this work ? \n",
    "\n",
    "Gradient is _the multivariable calculus_ name of a derivative. \"Great\", I hear you reply. \"you replaced a fancy name with another\". I'm speaking Javanese here, right ? Bear with me. To understand gradients, we need to understand derivatives, and to understand derivatives we need to understand functions.\n",
    "\n",
    "So let's start with functions : "
   ]
  },
  {
   "cell_type": "markdown",
   "metadata": {
    "id": "9iup65_9PNUk"
   },
   "source": [
    "## Function: cow"
   ]
  },
  {
   "cell_type": "markdown",
   "metadata": {},
   "source": [
    "Think of a function as a industrial black box, a machine. You put something in it, and it gives you something else."
   ]
  },
  {
   "cell_type": "markdown",
   "metadata": {},
   "source": [
    "However, to give you a more visual example, let's use the example of a cow. You give it something (grass), and it gives you back something else (milk):"
   ]
  },
  {
   "cell_type": "markdown",
   "metadata": {},
   "source": [
    "<img src=\"illustrations/cow.png\" />"
   ]
  },
  {
   "cell_type": "code",
   "execution_count": 4,
   "metadata": {
    "colab": {
     "base_uri": "https://localhost:8080/",
     "height": 34
    },
    "id": "jcYzTe4XHCop",
    "outputId": "6596d908-1340-486f-dc00-7f0d31258943"
   },
   "outputs": [
    {
     "name": "stdout",
     "output_type": "stream",
     "text": [
      "you got 200 liters of milk\n"
     ]
    }
   ],
   "source": [
    "def cow(grass):\n",
    "  milk = grass * 2\n",
    "  return milk\n",
    "\n",
    "# Let's give our function 100kg of grass and see what it gives us back:\n",
    "\n",
    "print('you got ' + str(cow(100)) + ' liters of milk')"
   ]
  },
  {
   "cell_type": "markdown",
   "metadata": {
    "id": "-k3KiRI_Iqso"
   },
   "source": [
    "We say that the number of liters of milk we get is <b><i>a function</i> of the grass</b>; the more grass we feed, the more milk we get ! \n",
    "\n"
   ]
  },
  {
   "cell_type": "code",
   "execution_count": 5,
   "metadata": {
    "colab": {
     "base_uri": "https://localhost:8080/",
     "height": 285
    },
    "id": "7scLsx_-JnG4",
    "outputId": "5f059df2-e8e5-45b5-f2e2-ce8a4f2891b0"
   },
   "outputs": [
    {
     "data": {
      "image/png": "[encoded data removed]",
      "text/plain": [
       "<Figure size 432x288 with 1 Axes>"
      ]
     },
     "metadata": {
      "needs_background": "light"
     },
     "output_type": "display_data"
    }
   ],
   "source": [
    "plot_function(cow, title=\"Liters of milk as a function of grass fed to the cow\", min=0, max= 10)"
   ]
  },
  {
   "cell_type": "markdown",
   "metadata": {
    "id": "eQoulz_XPXSH"
   },
   "source": [
    "## The derivative: what happens if we put more into our function ? "
   ]
  },
  {
   "cell_type": "markdown",
   "metadata": {
    "id": "vgyQhN1KUtkQ"
   },
   "source": [
    "A lot of people present the derivative as \"the slope\" of the tangent to a  function. While this is true, I think this presentation is not sufficient."
   ]
  },
  {
   "cell_type": "markdown",
   "metadata": {
    "id": "2lsZRbAUJqth"
   },
   "source": [
    "What would happen if we gave more grass to the cow ? Well, if you read the definition of the function attentively, you saw every time we give some more grass to the cow, we get an additional two times that quantity of milk\n"
   ]
  },
  {
   "cell_type": "markdown",
   "metadata": {
    "id": "IOLwq9p3OiP6"
   },
   "source": [
    "Note that it doesn't matter if we already fed our cow 200kg of grass. If we give it more grass, it will output more milk (it's not a very realistic cow, but we'll come back to that later)"
   ]
  },
  {
   "cell_type": "markdown",
   "metadata": {
    "id": "nXvo6b7kOizY"
   },
   "source": [
    "In order to know how much the output (milk) of our function is gonna change if we change the input (grass) by a tiny bit, scientists use what's called a <b> derivative </b>. The mathematical formula is as follows :"
   ]
  },
  {
   "cell_type": "markdown",
   "metadata": {
    "id": "bIiwDR_kOgoK"
   },
   "source": [
    "<span style='font-size: 40px'>\n",
    "\\begin{array}{c}\n",
    "t_{x_{0}}(h)=\\frac{f\\left(x_{0}+h\\right)-f\\left(x_{0}\\right)}{h}\n",
    "\\end{array}\n",
    "</span>"
   ]
  },
  {
   "cell_type": "markdown",
   "metadata": {
    "id": "B2XH_wmaTXg-"
   },
   "source": [
    "Don't bother too much with it, and certainly don't learn it by heart. Just let's see what happens if we replace the letters in this equation by numbers.\n",
    "Our function is called \"cow\", so replace f() by cow(); let's say h0 is 3, and h is one : "
   ]
  },
  {
   "cell_type": "code",
   "execution_count": 6,
   "metadata": {
    "colab": {
     "base_uri": "https://localhost:8080/",
     "height": 34
    },
    "id": "3xThSiBMMiae",
    "outputId": "59682144-60e9-4aa1-f3ef-ba50f7dd6f16"
   },
   "outputs": [
    {
     "data": {
      "text/plain": [
       "2"
      ]
     },
     "execution_count": 6,
     "metadata": {},
     "output_type": "execute_result"
    }
   ],
   "source": [
    "round((cow(4) - cow(3)) / 1 )"
   ]
  },
  {
   "cell_type": "code",
   "execution_count": 7,
   "metadata": {
    "colab": {
     "base_uri": "https://localhost:8080/",
     "height": 34
    },
    "id": "A2LgmgZFMh8P",
    "outputId": "75113968-f639-456a-a0ba-7eeb01c1d22b"
   },
   "outputs": [
    {
     "data": {
      "text/plain": [
       "2"
      ]
     },
     "execution_count": 7,
     "metadata": {},
     "output_type": "execute_result"
    }
   ],
   "source": [
    "# This time h0 is also three, but h is 0.0001\n",
    "round((cow(3 + 0.0001) - cow(3)) / 0.0001)"
   ]
  },
  {
   "cell_type": "code",
   "execution_count": 8,
   "metadata": {
    "colab": {
     "base_uri": "https://localhost:8080/",
     "height": 34
    },
    "id": "iIshqx32MhYo",
    "outputId": "cded8246-f4cf-4877-ae7c-ce9d8cbef892"
   },
   "outputs": [
    {
     "data": {
      "text/plain": [
       "2"
      ]
     },
     "execution_count": 8,
     "metadata": {},
     "output_type": "execute_result"
    }
   ],
   "source": [
    "# This time h0 is also three, but h is 0.000000001\n",
    "round((cow(3 + 0.000000001) - cow(3)) / 0.000000001)"
   ]
  },
  {
   "cell_type": "markdown",
   "metadata": {
    "id": "PE4-iEO1Mgs1"
   },
   "source": [
    "That's the true definition of a derivative: <b> if I change what I put into my function by a very very small amount (0.00000...01), how is my output gonna change ? </b> \n",
    "\n",
    "As you can see, the derivative of 2*x is just 2. But our cow wasn't very realistic... At some point your cow will stop producing milk even if you give it more grass. It will just stop eating and stop producing; The production of a cow might look more like something like this: "
   ]
  },
  {
   "cell_type": "markdown",
   "metadata": {},
   "source": [
    "### A more realistic cow"
   ]
  },
  {
   "cell_type": "code",
   "execution_count": 10,
   "metadata": {
    "colab": {
     "base_uri": "https://localhost:8080/",
     "height": 268
    },
    "id": "I37f9_lJV_0X",
    "outputId": "d044866a-cd65-4816-d90c-e6a1c558b958"
   },
   "outputs": [
    {
     "data": {
      "image/png": "[encoded data removed]",
      "text/plain": [
       "<Figure size 432x288 with 1 Axes>"
      ]
     },
     "metadata": {
      "needs_background": "light"
     },
     "output_type": "display_data"
    }
   ],
   "source": [
    "def realistic_cow(grass):\n",
    "  milk = np.log(grass + 1)\n",
    "  return milk\n",
    "\n",
    "\n",
    "plot_function(realistic_cow, min=1, max=50)"
   ]
  },
  {
   "cell_type": "markdown",
   "metadata": {
    "id": "tKv4r682XnR_"
   },
   "source": [
    "At first, more grass means a lot more milk. But when the cow has already outputted 30 liters of milk, you have to give it WAYYY more grass to have some extra milk...\n",
    "\n",
    "Since this time, how much more milk depends on where you are on the curve, you won't always get the same number as your derivative : "
   ]
  },
  {
   "cell_type": "code",
   "execution_count": 15,
   "metadata": {
    "colab": {
     "base_uri": "https://localhost:8080/",
     "height": 34
    },
    "id": "1HrdrzC_W8Cz",
    "outputId": "5a9d2772-fb24-4726-c2ac-19739cc8b5da"
   },
   "outputs": [
    {
     "data": {
      "text/plain": [
       "0.2231435513142097"
      ]
     },
     "execution_count": 15,
     "metadata": {},
     "output_type": "execute_result"
    }
   ],
   "source": [
    "(realistic_cow(4) - realistic_cow(3)) / 1"
   ]
  },
  {
   "cell_type": "code",
   "execution_count": 16,
   "metadata": {
    "colab": {
     "base_uri": "https://localhost:8080/",
     "height": 34
    },
    "id": "ZnR5Xfb2W73J",
    "outputId": "fde6544f-19bd-46ce-aa9b-a819c4d73310"
   },
   "outputs": [
    {
     "data": {
      "text/plain": [
       "0.2499968750524495"
      ]
     },
     "execution_count": 16,
     "metadata": {},
     "output_type": "execute_result"
    }
   ],
   "source": [
    "(realistic_cow(3 + 0.0001) - realistic_cow(3)) / 0.0001"
   ]
  },
  {
   "cell_type": "code",
   "execution_count": 17,
   "metadata": {
    "colab": {
     "base_uri": "https://localhost:8080/",
     "height": 34
    },
    "id": "aLvlQfVDW7p0",
    "outputId": "34cf4616-480f-4c24-e92b-6af2f61214ee"
   },
   "outputs": [
    {
     "data": {
      "text/plain": [
       "0.25000002068509275"
      ]
     },
     "execution_count": 17,
     "metadata": {},
     "output_type": "execute_result"
    }
   ],
   "source": [
    "(realistic_cow(3 + 0.000000001) - realistic_cow(3)) / 0.000000001"
   ]
  },
  {
   "cell_type": "markdown",
   "metadata": {
    "id": "HAZFXGmAW62T"
   },
   "source": [
    "So with a function that is not a straight linear relationship, the derivative won't be just a constant, it's going to be itself a function of your input. <b> The more you already gave grass to the cow, the less your new tiny input is going to have an effect on the output </b> : "
   ]
  },
  {
   "cell_type": "code",
   "execution_count": 19,
   "metadata": {
    "colab": {
     "base_uri": "https://localhost:8080/",
     "height": 34
    },
    "id": "YAoYGJbdZ3e-",
    "outputId": "edb9cf46-8941-478f-fc79-918991463b9d"
   },
   "outputs": [
    {
     "data": {
      "text/plain": [
       "0.004974687328740401"
      ]
     },
     "execution_count": 19,
     "metadata": {},
     "output_type": "execute_result"
    }
   ],
   "source": [
    "(realistic_cow(200 + 0.000000001) - realistic_cow(200)) / 0.000000001"
   ]
  },
  {
   "cell_type": "markdown",
   "metadata": {
    "id": "sJ_fvcA5Z-We"
   },
   "source": [
    "This time, your derivative is not 2, but 1/x (that's the formula for the derivative of ln(x) ). \n",
    "\n",
    "\n",
    "[ Not important at all technicality:  Well, in fact, in order to make sure our cow would not output a negative number of milk (which doesn't make sense), I said its output was going to be np.log(x + 1);\n",
    "\n",
    "The derivative of ln(x) is 1/x, but the derivative of ln(x + 1) is 1 / (x + 1). Just saying, to be mathematically correct. But don't bother with this. ]"
   ]
  },
  {
   "cell_type": "markdown",
   "metadata": {
    "id": "PDm6GN5hUdn7"
   },
   "source": [
    "## The derivative as \"the slope\" of the tangent to  a function"
   ]
  },
  {
   "cell_type": "markdown",
   "metadata": {
    "id": "_4VdPMozLdOJ"
   },
   "source": [
    "Since this way is the way derivatives are usually introduced, I'll go over it quickly. Feel free to watch <a href=\"https://www.youtube.com/watch?v=ANyVpMS3HL4\">this video</a> for a more thorough presentation."
   ]
  },
  {
   "cell_type": "code",
   "execution_count": 20,
   "metadata": {
    "id": "U38xjhtVMgE-"
   },
   "outputs": [],
   "source": [
    "# (Note: the tangent to a function and the concept of a derivative are so closely related \n",
    "# that when I looked for a quick function to plot a tangent in python, \n",
    "# I found one which uses the derivative to do that !)\n",
    "# found here: https://math-physics-problems.wikia.org/wiki/Graphing_Tangent_Lines_with_Python\n",
    "def deriv(f,x):\n",
    "    h = 0.000000001                 #step-size \n",
    "    return (f(x+h) - f(x))/h        #definition of derivative"
   ]
  },
  {
   "cell_type": "code",
   "execution_count": 21,
   "metadata": {
    "id": "aohFRAxlcA4n"
   },
   "outputs": [],
   "source": [
    " def tangent_line(f,x_0,a,b, ax):\n",
    "    x = np.linspace(a,b,200)\n",
    "    y = f(x) \n",
    "    y_0 = f(x_0)\n",
    "    y_tan = deriv(f,x_0) * (x - x_0) + y_0 \n",
    "   \n",
    "  #plotting\n",
    "    ax.plot(x,y,'r-')\n",
    "    ax.plot(x,y_tan,'b-')\n",
    "    ax.axis([-0.2,b,a,b])   "
   ]
  },
  {
   "cell_type": "code",
   "execution_count": 38,
   "metadata": {
    "colab": {
     "base_uri": "https://localhost:8080/",
     "height": 337
    },
    "id": "L8IvFg1Bezsn",
    "outputId": "69be2aac-1a13-4499-9294-185668d17ded"
   },
   "outputs": [
    {
     "data": {
      "image/png": "[encoded data removed]",
      "text/plain": [
       "<Figure size 1152x720 with 4 Axes>"
      ]
     },
     "metadata": {
      "needs_background": "light"
     },
     "output_type": "display_data"
    },
    {
     "name": "stdout",
     "output_type": "stream",
     "text": [
      "the tangent gets flatter and flatter\n"
     ]
    }
   ],
   "source": [
    "fig, ax = plt.subplots(2,2, figsize=(16,10))\n",
    "\n",
    "for i, grass_quantity in enumerate([0, 1, 2, 5]):\n",
    "    my_ax = ax.ravel()[i]\n",
    "    tangent_line(realistic_cow, grass_quantity, 0, 5, my_ax)\n",
    "    my_ax.set_title('Plot of function ' +\n",
    "                    realistic_cow.__name__ +\n",
    "                    '\\'s tangent line at ' +\n",
    "                    str(grass_quantity) + \n",
    "                   ' units of grass fed') \n",
    "plt.show()\n",
    "print(\"the tangent gets flatter and flatter\")"
   ]
  },
  {
   "cell_type": "markdown",
   "metadata": {},
   "source": [
    "Remember that earlier, with our function cow, no matter what number we put in the derivative equation, we always got \"2\" back ? \n",
    "Here is the visual intuition: since the function is linear (y = 2x), the tangent line to this function sticks to the function itself ! In the next graphs, the blue and red lines are stacked against one another:"
   ]
  },
  {
   "cell_type": "code",
   "execution_count": 39,
   "metadata": {
    "id": "1rHMAEOjgkae"
   },
   "outputs": [
    {
     "data": {
      "image/png": "[encoded data removed]",
      "text/plain": [
       "<Figure size 576x432 with 4 Axes>"
      ]
     },
     "metadata": {
      "needs_background": "light"
     },
     "output_type": "display_data"
    }
   ],
   "source": [
    "fig, ax = plt.subplots(2,2, figsize=(8,6))\n",
    "plt.title('Plot of function ' + realistic_cow.__name__ + '\\'s tangent line at various points')  \n",
    "\n",
    "for i, grass_quantity in enumerate([0, 1, 2, 5]):\n",
    "    my_ax = ax.ravel()[i]\n",
    "    tangent_line(cow, grass_quantity, 0, 4, my_ax)\n",
    "plt.show()"
   ]
  },
  {
   "cell_type": "markdown",
   "metadata": {},
   "source": [
    "And what's the \"slope\" of this straight line ? Well, two. Each time I move 1 along the x axis, I move two along the y axis. <br /> That was the definition of the function, by the way: <br /> \n",
    "milk = 2xgrass <=> y = 2x ;) \n",
    "\n",
    "That's why the derivative of our function was always 2. \n",
    "\n",
    "And that's why the derivative of any function that multiplies its input a constant is always that constant. Derivative of y = 257 * x ? 257 of course!"
   ]
  },
  {
   "cell_type": "markdown",
   "metadata": {},
   "source": [
    "### A cow that doesn't care"
   ]
  },
  {
   "cell_type": "code",
   "execution_count": 40,
   "metadata": {},
   "outputs": [
    {
     "data": {
      "text/plain": [
       "[<matplotlib.lines.Line2D at 0x7fafb53e8f50>]"
      ]
     },
     "execution_count": 40,
     "metadata": {},
     "output_type": "execute_result"
    },
    {
     "data": {
      "image/png": "[encoded data removed]",
      "text/plain": [
       "<Figure size 432x288 with 1 Axes>"
      ]
     },
     "metadata": {
      "needs_background": "light"
     },
     "output_type": "display_data"
    }
   ],
   "source": [
    "# This cow will give you 2L of milk no matter what\n",
    "def stoic_cow(x):\n",
    "    return 2\n",
    "\n",
    "plt.plot([stoic_cow(x) for x in range(10)])"
   ]
  },
  {
   "cell_type": "markdown",
   "metadata": {},
   "source": [
    "As we've seen above, the tangent of a straight line is this straight line itself. The straight line we have here is totally horizontal. What is the \"slope\" of a totally horizontal line ? Well, 0. \n",
    "\n",
    "Hence, if you knew that the derivative of a constant was 0 but didn't really understand why, now you know: <b> no Matter how much grass we _input_ into that cow, the output (milk) quantity will change by absolutely nothing </b>"
   ]
  },
  {
   "cell_type": "markdown",
   "metadata": {},
   "source": [
    "## Back to gradients"
   ]
  },
  {
   "cell_type": "markdown",
   "metadata": {},
   "source": [
    "I hope you are now comfortable thinking of your functions as boxes which transform an input into an output."
   ]
  },
  {
   "cell_type": "markdown",
   "metadata": {},
   "source": [
    "<img src=\"illustrations/Screenshot_2020-10-04 Functions - A Review of Functions Coursera.png\" />\n",
    "(This illustration was taken from the wonderful Calculus course by Upenn professor Ghrist on Coursera: https://www.coursera.org/learn/single-variable-calculus) "
   ]
  },
  {
   "cell_type": "markdown",
   "metadata": {},
   "source": [
    "And I hope you understand the derivative is something that answers for you the question: <i>\"if I changed the input by a little bit, how would my output change ?\"</i>"
   ]
  },
  {
   "cell_type": "markdown",
   "metadata": {},
   "source": [
    "Of course, you've been telling yourself all along \"Well, those exemples are dumb ! Cows don't only eat grass, they also drink water. They would not be able to produce milk without water !\""
   ]
  },
  {
   "cell_type": "markdown",
   "metadata": {},
   "source": [
    "You are right. Our cow is a multivariable function : The ouput of our cow function doesn't depend only on one input, but on two."
   ]
  },
  {
   "cell_type": "markdown",
   "metadata": {},
   "source": [
    "\"Well, how will we calculate the change in output given a change in input when there are two inputs ?\", I hear you say.\n",
    "\n",
    "That's the purpose of Multivariable Calculus. I cannot teach you all this in a single notebook. But here a few things that I believe are enough for you to understand gradient descent and the backpropagation:\n",
    "\n",
    "<ul>\n",
    "    <li> A gradient is composed of partial derivatives </li>\n",
    "    <li> To calculate a partial derivative, treat the other input variables as constants </li>\n",
    "    <li> This now tells you: <b> \"<i>all other things being equal </i>, if I tweaked this input variable by a little bit, how would my output change ?\" </b> </li>\n",
    "    <li> All those partial derivatives together give you <b>the direction and rate of fastest increase</b> along a multivariable function  </li>\n",
    "</ul>"
   ]
  },
  {
   "cell_type": "markdown",
   "metadata": {},
   "source": [
    "### You can now understand the equations I gave in the previous notebook ! "
   ]
  },
  {
   "cell_type": "markdown",
   "metadata": {
    "id": "2OXUFf6kEquf"
   },
   "source": [
    "\\begin{array}{c}\n",
    "{M S E=\\frac{1}{N} \\sum_{i=1}^{N}\\left(y_{i}-\\hat{y}_{i}\\right)^{2}} \n",
    "\\end{array}\n",
    "\n",
    "\n"
   ]
  },
  {
   "cell_type": "markdown",
   "metadata": {},
   "source": [
    "MSE is our function. It takes and input (your predictions, y_hat), and gives back an output (your loss).\n",
    "\n",
    "The question you are asking is: how much would my loss change if I changed my predictions by a little bit ?\n",
    "\n",
    "But your predictions, themselves, are a function of your input(x), and your parameters(a and b) :"
   ]
  },
  {
   "cell_type": "markdown",
   "metadata": {},
   "source": [
    "\\begin{array}{c}\n",
    "{M S E=\\frac{1}{N} \\sum_{i=1}^{N}\\left(y_{i}-(a x_{i} + b ) \\right)^{2}} \\\\\n",
    "{M S E=\\frac{1}{N} \\sum_{i=1}^{N}\\left(y_{i}-a x_{i} - b\\right)^{2}}\n",
    "\\end{array}"
   ]
  },
  {
   "cell_type": "markdown",
   "metadata": {},
   "source": [
    "What's particular about machine learning is you can't change your input: the input might be the number of square meters of an apartment, and you want to predict its price. But you can change your parameters ! "
   ]
  },
  {
   "cell_type": "markdown",
   "metadata": {},
   "source": [
    "By changing the parameters, you change your y_hat (your predictions). And by changing your predictions, you change what you put into the MSE function. If you change what you put inside that function, the output (your error) will change."
   ]
  },
  {
   "cell_type": "markdown",
   "metadata": {},
   "source": [
    "By how much ? Well, let's calculate the gradients. First, what is the gradient for \"a\" ?"
   ]
  },
  {
   "cell_type": "markdown",
   "metadata": {
    "id": "vPheiPD1Equf"
   },
   "source": [
    "\\begin{aligned}\n",
    "\\frac{\\partial M S E}{\\partial a} &=\\frac{\\partial M S E}{\\partial \\hat{y}_{i}} \\cdot \\frac{\\partial \\hat{y}_{i}}{\\partial a}\n",
    "\\end{aligned}"
   ]
  },
  {
   "cell_type": "markdown",
   "metadata": {},
   "source": [
    "The equation above says: <blockquote> the change in MSE if I changed \"a\" by a tiny bit <b>is equal to:</b>\n",
    "    - the change in MSE I would get from changing y_hat...\n",
    "    - multiplied by the change in y_hat I would get from changing \"a\" \n",
    "</blockquote>\n",
    "\n",
    "Let's work on this bit by bit\n",
    "\n",
    "<b> a) </b> the change in MSE I would get from changing y_hat... <br />\n",
    "If I changed y_hat by a tiny bit, how would (y - y_hat)² change ? \n",
    "- Take a derivative of an outside function: ()² becomes 2()\n",
    "- Keep an inside function as-is: y-(ax+b)\n",
    "\n",
    "\n",
    "<b> b) </b> the change in y_hat (my predictions) I would get from changing \"a\"... <br />\n",
    "- Take a partial derivative with respect to aa\": 0-(x+0) or -x.\n",
    "\n",
    "Lets elaborate on how we get this result: we treat anything that is not \"a\" as a constant. Gradients or derivatives of Constants are always equal to 0. The derivative of ax is x, because the derivative of \"a\" is 1, and any number or a variable attached to \"a\" stays in place, meaning 1*x, or just x."
   ]
  },
  {
   "cell_type": "markdown",
   "metadata": {},
   "source": [
    "Hence you can now understand where does the -2 and the xi come from in the following equation: "
   ]
  },
  {
   "cell_type": "markdown",
   "metadata": {},
   "source": [
    "\\begin{aligned}\n",
    "\\frac{\\partial M S E}{\\partial a} &=\\frac{\\partial M S E}{\\partial \\hat{y}_{i}} \\cdot \\frac{\\partial \\hat{y}_{i}}{\\partial a}=\\frac{1}{N} \\sum_{i=1}^{N} 2\\left(y_{i}-a x_{i} - b\\right) \\cdot\\left(-x_{i}\\right)=-2 \\frac{1}{N} \\sum_{i=1}^{N} x_{i}\\left(y_{i}-\\hat{y}_{i}\\right) *\n",
    "\\end{aligned}\n",
    "\\*the mean of [ (errors)(xi) ]"
   ]
  },
  {
   "cell_type": "markdown",
   "metadata": {},
   "source": [
    "I'll leave it to you to re-derive the intermediate steps of the gradient of the MSE with respect to the parameter b"
   ]
  },
  {
   "cell_type": "markdown",
   "metadata": {},
   "source": [
    "# The \"descent\" in gradient descent"
   ]
  },
  {
   "cell_type": "markdown",
   "metadata": {},
   "source": [
    "The gradient we calculated can be interpreted as the \"direction and rate of fastest increase\". We don't want our MSE to increase, but on the contrary we want it to decrease. So we update our parameters by <b>subtracting</b> this gradient !\n",
    "\n",
    "You can know understand fully the two lines of code in our previous notebook: "
   ]
  },
  {
   "cell_type": "code",
   "execution_count": 42,
   "metadata": {},
   "outputs": [],
   "source": [
    "# The code equivalent to our above equation:\n",
    "# a_grad = -2 * (x * errors).mean()\n",
    "\n",
    "# We update the parameters by subtracting the gradient :\n",
    "# a -= a_grad * learning_rate"
   ]
  },
  {
   "cell_type": "code",
   "execution_count": null,
   "metadata": {},
   "outputs": [],
   "source": []
  }
 ],
 "metadata": {
  "kernelspec": {
   "display_name": "Python 3",
   "language": "python",
   "name": "python3"
  },
  "language_info": {
   "codemirror_mode": {
    "name": "ipython",
    "version": 3
   },
   "file_extension": ".py",
   "mimetype": "text/x-python",
   "name": "python",
   "nbconvert_exporter": "python",
   "pygments_lexer": "ipython3",
   "version": "3.7.6"
  }
 },
 "nbformat": 4,
 "nbformat_minor": 2
}
