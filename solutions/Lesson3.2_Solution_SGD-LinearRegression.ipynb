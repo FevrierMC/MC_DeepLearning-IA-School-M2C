{
 "cells": [
  {
   "cell_type": "code",
   "execution_count": 1,
   "metadata": {},
   "outputs": [],
   "source": [
    "!pip install fastai2 > ../dev/null\n",
    "!pip install utils > ../dev/null  "
   ]
  },
  {
   "cell_type": "code",
   "execution_count": 1,
   "metadata": {},
   "outputs": [],
   "source": [
    "import pandas as pd\n",
    "import numpy as np\n",
    "import torch\n",
    "import math\n",
    "from functools import partial\n",
    "import matplotlib.pyplot as plt"
   ]
  },
  {
   "cell_type": "code",
   "execution_count": 2,
   "metadata": {},
   "outputs": [],
   "source": [
    "from utils import *\n",
    "from fastai2.vision.widgets import *\n",
    "from fastai2.vision.all import *"
   ]
  },
  {
   "cell_type": "markdown",
   "metadata": {},
   "source": [
    "# Lesson 3 (suite): Gradient Descent"
   ]
  },
  {
   "cell_type": "markdown",
   "metadata": {},
   "source": [
    "## how can we perform linear regression using gradient descent ?\n"
   ]
  },
  {
   "cell_type": "markdown",
   "metadata": {},
   "source": [
    "Here is the pseudo code:"
   ]
  },
  {
   "cell_type": "markdown",
   "metadata": {},
   "source": [
    "* get the data\n",
    "* initialize weights\n",
    "* train: for each epoch:\n",
    "* * make predictions\n",
    "* * compute the loss\n",
    "* * backpropagate the loss\n",
    "* * update the gradients"
   ]
  },
  {
   "cell_type": "markdown",
   "metadata": {},
   "source": [
    "### Get the data\n",
    "Create data that follow the function y=3x+2"
   ]
  },
  {
   "cell_type": "code",
   "execution_count": 3,
   "metadata": {},
   "outputs": [
    {
     "data": {
      "text/plain": [
       "0.9866848849105029"
      ]
     },
     "execution_count": 3,
     "metadata": {},
     "output_type": "execute_result"
    }
   ],
   "source": [
    "# np.random.rand() gives you a random number between 0 and 1\n",
    "np.random.rand()"
   ]
  },
  {
   "cell_type": "code",
   "execution_count": 4,
   "metadata": {},
   "outputs": [
    {
     "data": {
      "text/plain": [
       "array([0.79656442, 0.9717597 ])"
      ]
     },
     "execution_count": 4,
     "metadata": {},
     "output_type": "execute_result"
    }
   ],
   "source": [
    "# What if you want to have two numbers ?\n",
    "np.random.rand(2)"
   ]
  },
  {
   "cell_type": "code",
   "execution_count": 5,
   "metadata": {},
   "outputs": [],
   "source": [
    "# use np.random.rand() to get 300 points distributed between 0 and 100\n",
    "x = np.random.rand(300)\n",
    "\n",
    "assert x.shape == (300,)\n",
    "assert x.mean() >= 0.4  # this should pass most of the time, if not, relaunch the cell\n",
    "assert x.mean() <= 0.6  # this should pass most of the time, if not, relaunch the cell"
   ]
  },
  {
   "cell_type": "code",
   "execution_count": 6,
   "metadata": {},
   "outputs": [],
   "source": [
    "# create your \"y\" value using the equation y=3x+2\n",
    "y =  3 * x + 2\n",
    "\n",
    "assert (y == (3*x+2)).all()"
   ]
  },
  {
   "cell_type": "code",
   "execution_count": 7,
   "metadata": {},
   "outputs": [
    {
     "data": {
      "text/plain": [
       "<matplotlib.collections.PathCollection at 0x7fecfd7547d0>"
      ]
     },
     "execution_count": 7,
     "metadata": {},
     "output_type": "execute_result"
    },
    {
     "data": {
      "image/png": "[encoded data removed]",
      "text/plain": [
       "<Figure size 432x288 with 1 Axes>"
      ]
     },
     "metadata": {
      "needs_background": "light"
     },
     "output_type": "display_data"
    }
   ],
   "source": [
    "plt.scatter(x, y)"
   ]
  },
  {
   "cell_type": "markdown",
   "metadata": {},
   "source": [
    "## can you code the gradient descent ? \n",
    "Create data that follow the function y=3x+2. Then figure a way to find back these parameters using gradient descent."
   ]
  },
  {
   "cell_type": "markdown",
   "metadata": {},
   "source": [
    "## Help: math equations for gradient calculation"
   ]
  },
  {
   "cell_type": "markdown",
   "metadata": {},
   "source": [
    "\\begin{array}{c}\n",
    "{M S E=\\frac{1}{N} \\sum_{i=1}^{N}\\left(y_{i}-\\hat{y}_{i}\\right)^{2}} \\\\\n",
    "{M S E=\\frac{1}{N} \\sum_{i=1}^{N}\\left(y_{i}-(a x_{i} + b ) \\right)^{2}} \\\\\n",
    "{M S E=\\frac{1}{N} \\sum_{i=1}^{N}\\left(y_{i}-a x_{i} - b\\right)^{2}}\n",
    "\\end{array}\n",
    "\n",
    "\n"
   ]
  },
  {
   "cell_type": "markdown",
   "metadata": {},
   "source": [
    "\\begin{aligned}\n",
    "\\frac{\\partial M S E}{\\partial a} &=\\frac{\\partial M S E}{\\partial \\hat{y}_{i}} \\cdot \\frac{\\partial \\hat{y}_{i}}{\\partial a}=\\frac{1}{N} \\sum_{i=1}^{N} 2\\left(y_{i}-a x_{i} - b\\right) \\cdot(-1)=-2 \\frac{1}{N} \\sum_{i=1}^{N}\\left(y_{i}-\\hat{y}_{i}\\right)* \\\\\n",
    "\\frac{\\partial M S E}{\\partial b} &=\\frac{\\partial M S E}{\\partial \\hat{y}_{i}} \\cdot \\frac{\\partial \\hat{y}_{i}}{\\partial b}=\\frac{1}{N} \\sum_{i=1}^{N} 2\\left(y_{i}-a x_{i} - b\\right) \\cdot\\left(-x_{i}\\right)=-2 \\frac{1}{N} \\sum_{i=1}^{N} x_{i}\\left(y_{i}-\\hat{y}_{i}\\right) **\n",
    "\\end{aligned}\n",
    "*the mean of errors\n",
    "\n",
    "\\**the mean of (errors * xi)"
   ]
  },
  {
   "cell_type": "code",
   "execution_count": 8,
   "metadata": {},
   "outputs": [],
   "source": [
    "# initialize parameters (at first, we believe a=1 and b=1)\n",
    "a = 1.\n",
    "b = 1."
   ]
  },
  {
   "cell_type": "code",
   "execution_count": 9,
   "metadata": {},
   "outputs": [
    {
     "name": "stdout",
     "output_type": "stream",
     "text": [
      "4.2200263786437\n",
      "2.771280539507429\n",
      "1.8200703465262704\n",
      "1.1955354570610848\n",
      "0.7854914315294111\n",
      "0.5162795894434428\n",
      "0.3395367131710158\n",
      "0.22350822471685935\n",
      "0.1473445418907157\n",
      "0.09735614738418633\n",
      "0.06455472072280315\n",
      "0.04303868070429355\n",
      "0.028933155682644054\n",
      "0.019693983244855363\n",
      "0.013650726379894881\n",
      "0.009706624457873443\n",
      "0.007141585361325724\n",
      "0.0054828329637140235\n",
      "0.004419976141927172\n",
      "0.0037492443334191674\n"
     ]
    }
   ],
   "source": [
    "# train:\n",
    "epochs = 3000\n",
    "learning_rate = 0.001\n",
    "\n",
    "for epoch in range(2000):\n",
    "    # make predictions\n",
    "    y_hat = a * x + b # you predict ax+b, at first it's 1x+1, but those parameters will change ;)\n",
    "\n",
    "    # compute the loss\n",
    "    errors = (y - y_hat)  # what you predicted (y_hat), minus the truth (y)\n",
    "    loss = (errors ** 2).mean()  # take the errors, square them, and take the mean.\n",
    "\n",
    "    # print the loss to ensure training is going well:\n",
    "    if epoch % 100 == 0:\n",
    "        print(loss)\n",
    "\n",
    "    # backpropagate the loss (in two parts)\n",
    "    \n",
    "    # 1: calculate the gradients (I did that for you,\n",
    "    # your exercise is to compare that with the math formulaes above and see how they compare :)\n",
    "    a_grad = -2 * errors.mean()  \n",
    "    b_grad = -2 * (x * errors).mean()\n",
    "\n",
    "    # 2: update parameters\n",
    "    a -= a_grad * learning_rate  # Try with and without the learning rate ;)\n",
    "    b = b - b_grad * learning_rate"
   ]
  },
  {
   "cell_type": "code",
   "execution_count": 10,
   "metadata": {},
   "outputs": [
    {
     "name": "stdout",
     "output_type": "stream",
     "text": [
      "2.8104836795154826 2.0755203670029796\n"
     ]
    }
   ],
   "source": [
    "print(a, b)"
   ]
  },
  {
   "cell_type": "code",
   "execution_count": 11,
   "metadata": {},
   "outputs": [
    {
     "data": {
      "text/plain": [
       "[<matplotlib.lines.Line2D at 0x7fecfcf56790>]"
      ]
     },
     "execution_count": 11,
     "metadata": {},
     "output_type": "execute_result"
    },
    {
     "data": {
      "image/png": "[encoded data removed]",
      "text/plain": [
       "<Figure size 432x288 with 1 Axes>"
      ]
     },
     "metadata": {
      "needs_background": "light"
     },
     "output_type": "display_data"
    }
   ],
   "source": [
    "y_pred = a * x + b  # you could also call y_pred \"model\"\n",
    "plt.scatter(x, y)\n",
    "plt.plot(x, y_pred, color=\"red\")"
   ]
  },
  {
   "cell_type": "markdown",
   "metadata": {},
   "source": [
    "# Why pytorch ?"
   ]
  },
  {
   "cell_type": "markdown",
   "metadata": {},
   "source": [
    "Pytorch looks a lot like numpy. And it has a lot of advantages. Let's see:"
   ]
  },
  {
   "cell_type": "markdown",
   "metadata": {},
   "source": [
    "## Linear regression with pytorch"
   ]
  },
  {
   "cell_type": "code",
   "execution_count": null,
   "metadata": {},
   "outputs": [],
   "source": [
    "import torch\n",
    "import matplotlib.pyplot as plt"
   ]
  },
  {
   "cell_type": "markdown",
   "metadata": {},
   "source": [
    "Create your x and y, following the same constraints:\n",
    "\n",
    "- x has 300 randomly distributed numbers between 0 and 1\n",
    "- y = 3x+2\n",
    "\n",
    "<b>HINT</b> type torch. and wait (or press tab if you are not in colab but in actual jupyter notebook) and search for something that looks like np.random.rand()"
   ]
  },
  {
   "cell_type": "code",
   "execution_count": 19,
   "metadata": {},
   "outputs": [
    {
     "data": {
      "text/plain": [
       "<matplotlib.collections.PathCollection at 0x7fecfce1cd10>"
      ]
     },
     "execution_count": 19,
     "metadata": {},
     "output_type": "execute_result"
    },
    {
     "data": {
      "image/png": "[encoded data removed]",
      "text/plain": [
       "<Figure size 432x288 with 1 Axes>"
      ]
     },
     "metadata": {
      "needs_background": "light"
     },
     "output_type": "display_data"
    }
   ],
   "source": [
    "# see how close torch is to numpy ?\n",
    "x = torch.rand(300) \n",
    "y = 3 * x + 2 \n",
    "plt.scatter(x, y)"
   ]
  },
  {
   "cell_type": "markdown",
   "metadata": {},
   "source": [
    "Here, create your parameters a and b. They should be tensors, of course, \n",
    "but if you remember the lesson, you should also tell pytorch that you want them to store the gradients !"
   ]
  },
  {
   "cell_type": "code",
   "execution_count": 20,
   "metadata": {},
   "outputs": [],
   "source": [
    "# Here, use torch.nn.Parameter() \n",
    "a = torch.tensor(1.).requires_grad_()\n",
    "b = torch.tensor(1.).requires_grad_()"
   ]
  },
  {
   "cell_type": "code",
   "execution_count": 22,
   "metadata": {},
   "outputs": [
    {
     "data": {
      "text/plain": [
       "[<matplotlib.lines.Line2D at 0x7fecfcf2a590>]"
      ]
     },
     "execution_count": 22,
     "metadata": {},
     "output_type": "execute_result"
    },
    {
     "data": {
      "image/png": "[encoded data removed]",
      "text/plain": [
       "<Figure size 432x288 with 1 Axes>"
      ]
     },
     "metadata": {
      "needs_background": "light"
     },
     "output_type": "display_data"
    }
   ],
   "source": [
    "y_pred = (a * x + b).detach().numpy()\n",
    "plt.plot(x, y)\n",
    "plt.plot(x, y_pred)"
   ]
  },
  {
   "cell_type": "code",
   "execution_count": 24,
   "metadata": {},
   "outputs": [
    {
     "name": "stdout",
     "output_type": "stream",
     "text": [
      "tensor(4.2681, grad_fn=<MeanBackward0>)\n",
      "tensor(0.1093, grad_fn=<MeanBackward0>)\n",
      "tensor(0.0645, grad_fn=<MeanBackward0>)\n",
      "tensor(0.0501, grad_fn=<MeanBackward0>)\n",
      "tensor(0.0390, grad_fn=<MeanBackward0>)\n",
      "tensor(0.0304, grad_fn=<MeanBackward0>)\n",
      "tensor(0.0237, grad_fn=<MeanBackward0>)\n",
      "tensor(0.0185, grad_fn=<MeanBackward0>)\n",
      "tensor(0.0144, grad_fn=<MeanBackward0>)\n",
      "tensor(0.0112, grad_fn=<MeanBackward0>)\n"
     ]
    }
   ],
   "source": [
    "epochs = 10000\n",
    "lr = 0.001\n",
    "a = torch.tensor(1.).requires_grad_()\n",
    "b = torch.tensor(1.).requires_grad_()\n",
    "\n",
    "for i in range(epochs):\n",
    "    # calculate the preds\n",
    "    y_pred = a * x + b\n",
    "\n",
    "    # calculate the loss\n",
    "    mse = ((y - y_pred) ** 2).mean()\n",
    "    if i % 1000 == 0:\n",
    "        print(mse)\n",
    "\n",
    "    # backward pass:\n",
    "    mse.backward()\n",
    "\n",
    "    # gradient descent:\n",
    "    with torch.no_grad():\n",
    "        a -= a.grad * 0.001\n",
    "        b -= b.grad * 0.001\n",
    "        a.grad.zero_()  # \n",
    "        b.grad.zero_()"
   ]
  },
  {
   "cell_type": "code",
   "execution_count": 25,
   "metadata": {},
   "outputs": [
    {
     "data": {
      "text/plain": [
       "[<matplotlib.lines.Line2D at 0x7fecfccfc810>]"
      ]
     },
     "execution_count": 25,
     "metadata": {},
     "output_type": "execute_result"
    },
    {
     "data": {
      "image/png": "[encoded data removed]",
      "text/plain": [
       "<Figure size 432x288 with 1 Axes>"
      ]
     },
     "metadata": {
      "needs_background": "light"
     },
     "output_type": "display_data"
    }
   ],
   "source": [
    "y_pred = (a * x + b).detach().numpy()\n",
    "plt.scatter(x, y)\n",
    "plt.plot(x, y_pred, color=\"red\")"
   ]
  },
  {
   "cell_type": "code",
   "execution_count": 223,
   "metadata": {},
   "outputs": [
    {
     "name": "stdout",
     "output_type": "stream",
     "text": [
      "Parameter containing:\n",
      "tensor(2.7083, requires_grad=True) Parameter containing:\n",
      "tensor(2.1669, requires_grad=True)\n"
     ]
    }
   ],
   "source": [
    "print(a, b)"
   ]
  },
  {
   "cell_type": "code",
   "execution_count": null,
   "metadata": {},
   "outputs": [],
   "source": []
  },
  {
   "cell_type": "markdown",
   "metadata": {},
   "source": [
    "# Replace MSE with MAE\n",
    "What do you find out ? "
   ]
  },
  {
   "cell_type": "code",
   "execution_count": 224,
   "metadata": {},
   "outputs": [
    {
     "name": "stdout",
     "output_type": "stream",
     "text": [
      "tensor(2.0696, grad_fn=<MeanBackward0>)\n",
      "tensor(0.7836, grad_fn=<MeanBackward0>)\n",
      "tensor(0.2632, grad_fn=<MeanBackward0>)\n",
      "tensor(0.1999, grad_fn=<MeanBackward0>)\n",
      "tensor(0.1523, grad_fn=<MeanBackward0>)\n",
      "tensor(0.1049, grad_fn=<MeanBackward0>)\n",
      "tensor(0.0574, grad_fn=<MeanBackward0>)\n",
      "tensor(0.0099, grad_fn=<MeanBackward0>)\n",
      "tensor(0.0009, grad_fn=<MeanBackward0>)\n",
      "tensor(0.0009, grad_fn=<MeanBackward0>)\n"
     ]
    }
   ],
   "source": [
    "# Replace MSE (mean squared error) by MAE (mean average error)\n",
    "epochs = 10000\n",
    "a = torch.nn.Parameter(torch.tensor(1.))\n",
    "b = torch.nn.Parameter(torch.tensor(1.))\n",
    "\n",
    "for i in range(epochs):\n",
    "    # calculate the preds\n",
    "    y_pred = a * x + b\n",
    "\n",
    "    # calculate the loss\n",
    "    mae = (abs(y - y_pred)).mean()\n",
    "    if i % 1000 == 0:\n",
    "        print(mae)\n",
    "\n",
    "    # backward pass:\n",
    "    mae.backward()\n",
    "\n",
    "    # gradient descent:\n",
    "    with torch.no_grad():\n",
    "        a -= a.grad * 0.001\n",
    "        b -= b.grad * 0.001\n",
    "        a.grad.zero_()\n",
    "        b.grad.zero_()"
   ]
  },
  {
   "cell_type": "code",
   "execution_count": 225,
   "metadata": {},
   "outputs": [
    {
     "data": {
      "text/plain": [
       "[<matplotlib.lines.Line2D at 0x7f28373cf090>]"
      ]
     },
     "execution_count": 225,
     "metadata": {},
     "output_type": "execute_result"
    },
    {
     "data": {
      "image/png": "[encoded data removed]",
      "text/plain": [
       "<Figure size 432x288 with 1 Axes>"
      ]
     },
     "metadata": {
      "needs_background": "light"
     },
     "output_type": "display_data"
    }
   ],
   "source": [
    "y_pred = (a * x + b).detach().numpy()\n",
    "plt.scatter(x, y)\n",
    "plt.plot(x, y_pred, color=\"red\")"
   ]
  },
  {
   "cell_type": "code",
   "execution_count": 226,
   "metadata": {},
   "outputs": [
    {
     "data": {
      "text/plain": [
       "(Parameter containing:\n",
       " tensor(2.9990, requires_grad=True), Parameter containing:\n",
       " tensor(1.9996, requires_grad=True))"
      ]
     },
     "execution_count": 226,
     "metadata": {},
     "output_type": "execute_result"
    }
   ],
   "source": [
    "# It takes more time to train, but seems to give a better result\n",
    "a, b"
   ]
  },
  {
   "cell_type": "code",
   "execution_count": null,
   "metadata": {},
   "outputs": [],
   "source": []
  },
  {
   "cell_type": "markdown",
   "metadata": {},
   "source": [
    "### Learn more\n",
    "The lesson from last year on SGD is also worth taking a look at. You can find it <a href=\"https://github.com/fastai/course-v3/blob/master/nbs/dl1/lesson2-sgd.ipynb\"> here </a>"
   ]
  },
  {
   "cell_type": "code",
   "execution_count": 148,
   "metadata": {},
   "outputs": [],
   "source": [
    "# An interesting thing they do differently\n",
    "# is they store a and b in a single vector\n",
    "# And then perform matrix-vector multiplication"
   ]
  },
  {
   "cell_type": "code",
   "execution_count": 213,
   "metadata": {},
   "outputs": [],
   "source": [
    "x = torch.ones(200, 2)\n",
    "a = torch.nn.Parameter(torch.tensor([1., 1.]))"
   ]
  },
  {
   "cell_type": "code",
   "execution_count": 214,
   "metadata": {},
   "outputs": [
    {
     "ename": "RuntimeError",
     "evalue": "size mismatch, m1: [1 x 2], m2: [200 x 2] at /pytorch/aten/src/TH/generic/THTensorMath.cpp:136",
     "output_type": "error",
     "traceback": [
      "\u001b[0;31m---------------------------------------------------------------------------\u001b[0m",
      "\u001b[0;31mRuntimeError\u001b[0m                              Traceback (most recent call last)",
      "\u001b[0;32m<ipython-input-214-62c303aa4a0a>\u001b[0m in \u001b[0;36m<module>\u001b[0;34m\u001b[0m\n\u001b[0;32m----> 1\u001b[0;31m \u001b[0ma\u001b[0m \u001b[0;34m@\u001b[0m \u001b[0mx\u001b[0m\u001b[0;34m\u001b[0m\u001b[0;34m\u001b[0m\u001b[0m\n\u001b[0m",
      "\u001b[0;31mRuntimeError\u001b[0m: size mismatch, m1: [1 x 2], m2: [200 x 2] at /pytorch/aten/src/TH/generic/THTensorMath.cpp:136"
     ]
    }
   ],
   "source": [
    "a @ x"
   ]
  },
  {
   "cell_type": "code",
   "execution_count": 215,
   "metadata": {},
   "outputs": [
    {
     "data": {
      "text/plain": [
       "tensor([2., 2., 2., 2., 2., 2., 2., 2., 2., 2., 2., 2., 2., 2., 2., 2., 2., 2.,\n",
       "        2., 2., 2., 2., 2., 2., 2., 2., 2., 2., 2., 2., 2., 2., 2., 2., 2., 2.,\n",
       "        2., 2., 2., 2., 2., 2., 2., 2., 2., 2., 2., 2., 2., 2., 2., 2., 2., 2.,\n",
       "        2., 2., 2., 2., 2., 2., 2., 2., 2., 2., 2., 2., 2., 2., 2., 2., 2., 2.,\n",
       "        2., 2., 2., 2., 2., 2., 2., 2., 2., 2., 2., 2., 2., 2., 2., 2., 2., 2.,\n",
       "        2., 2., 2., 2., 2., 2., 2., 2., 2., 2., 2., 2., 2., 2., 2., 2., 2., 2.,\n",
       "        2., 2., 2., 2., 2., 2., 2., 2., 2., 2., 2., 2., 2., 2., 2., 2., 2., 2.,\n",
       "        2., 2., 2., 2., 2., 2., 2., 2., 2., 2., 2., 2., 2., 2., 2., 2., 2., 2.,\n",
       "        2., 2., 2., 2., 2., 2., 2., 2., 2., 2., 2., 2., 2., 2., 2., 2., 2., 2.,\n",
       "        2., 2., 2., 2., 2., 2., 2., 2., 2., 2., 2., 2., 2., 2., 2., 2., 2., 2.,\n",
       "        2., 2., 2., 2., 2., 2., 2., 2., 2., 2., 2., 2., 2., 2., 2., 2., 2., 2.,\n",
       "        2., 2.], grad_fn=<MvBackward>)"
      ]
     },
     "execution_count": 215,
     "metadata": {},
     "output_type": "execute_result"
    }
   ],
   "source": [
    "x @ a"
   ]
  },
  {
   "cell_type": "markdown",
   "metadata": {},
   "source": [
    "To get a visual understanding of matrix-vector (or matrix-matrix) multiplications, <a href=\"http://matrixmultiplication.xyz/\"> visit this link </a>"
   ]
  },
  {
   "cell_type": "markdown",
   "metadata": {},
   "source": [
    "You can find a pytorch tutorial that dives deeply into the autograd and computation graph here <a href=\"https://towardsdatascience.com/understanding-pytorch-with-an-example-a-step-by-step-tutorial-81fc5f8c4e8e\"> here </a>"
   ]
  }
 ],
 "metadata": {
  "kernelspec": {
   "display_name": "Python 3",
   "language": "python",
   "name": "python3"
  },
  "language_info": {
   "codemirror_mode": {
    "name": "ipython",
    "version": 3
   },
   "file_extension": ".py",
   "mimetype": "text/x-python",
   "name": "python",
   "nbconvert_exporter": "python",
   "pygments_lexer": "ipython3",
   "version": "3.7.4"
  }
 },
 "nbformat": 4,
 "nbformat_minor": 2
}
