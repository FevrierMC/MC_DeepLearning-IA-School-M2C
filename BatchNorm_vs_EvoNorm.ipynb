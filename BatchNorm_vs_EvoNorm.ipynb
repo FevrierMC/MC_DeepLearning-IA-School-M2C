{
  "nbformat": 4,
  "nbformat_minor": 0,
  "metadata": {
    "colab": {
      "name": "BatchNorm vs. EvoNorm.ipynb",
      "provenance": [],
      "collapsed_sections": [],
      "authorship_tag": "ABX9TyM7fD5+zuqj4nvvmYyXEHJO",
      "include_colab_link": true
    },
    "kernelspec": {
      "name": "python3",
      "display_name": "Python 3"
    },
    "accelerator": "GPU",
    "widgets": {
      "application/vnd.jupyter.widget-state+json": {
        "45136b7b95bc48e0b22771805a7d70d5": {
          "model_module": "@jupyter-widgets/controls",
          "model_name": "HBoxModel",
          "state": {
            "_view_name": "HBoxView",
            "_dom_classes": [],
            "_model_name": "HBoxModel",
            "_view_module": "@jupyter-widgets/controls",
            "_model_module_version": "1.5.0",
            "_view_count": null,
            "_view_module_version": "1.5.0",
            "box_style": "",
            "layout": "IPY_MODEL_c47f2de1f3a04576a64978ab840b03b9",
            "_model_module": "@jupyter-widgets/controls",
            "children": [
              "IPY_MODEL_aa70b200a7ba41618d81eafe1814ae31",
              "IPY_MODEL_d681ea5034354588aa803a7c79e18782"
            ]
          }
        },
        "c47f2de1f3a04576a64978ab840b03b9": {
          "model_module": "@jupyter-widgets/base",
          "model_name": "LayoutModel",
          "state": {
            "_view_name": "LayoutView",
            "grid_template_rows": null,
            "right": null,
            "justify_content": null,
            "_view_module": "@jupyter-widgets/base",
            "overflow": null,
            "_model_module_version": "1.2.0",
            "_view_count": null,
            "flex_flow": null,
            "width": null,
            "min_width": null,
            "border": null,
            "align_items": null,
            "bottom": null,
            "_model_module": "@jupyter-widgets/base",
            "top": null,
            "grid_column": null,
            "overflow_y": null,
            "overflow_x": null,
            "grid_auto_flow": null,
            "grid_area": null,
            "grid_template_columns": null,
            "flex": null,
            "_model_name": "LayoutModel",
            "justify_items": null,
            "grid_row": null,
            "max_height": null,
            "align_content": null,
            "visibility": null,
            "align_self": null,
            "height": null,
            "min_height": null,
            "padding": null,
            "grid_auto_rows": null,
            "grid_gap": null,
            "max_width": null,
            "order": null,
            "_view_module_version": "1.2.0",
            "grid_template_areas": null,
            "object_position": null,
            "object_fit": null,
            "grid_auto_columns": null,
            "margin": null,
            "display": null,
            "left": null
          }
        },
        "aa70b200a7ba41618d81eafe1814ae31": {
          "model_module": "@jupyter-widgets/controls",
          "model_name": "FloatProgressModel",
          "state": {
            "_view_name": "ProgressView",
            "style": "IPY_MODEL_4fcea03c48ef4e33ab6ca9d231be58b3",
            "_dom_classes": [],
            "description": "",
            "_model_name": "FloatProgressModel",
            "bar_style": "info",
            "max": 1,
            "_view_module": "@jupyter-widgets/controls",
            "_model_module_version": "1.5.0",
            "value": 1,
            "_view_count": null,
            "_view_module_version": "1.5.0",
            "orientation": "horizontal",
            "min": 0,
            "description_tooltip": null,
            "_model_module": "@jupyter-widgets/controls",
            "layout": "IPY_MODEL_9c535013db2f4d039dfe649aba03bfcb"
          }
        },
        "d681ea5034354588aa803a7c79e18782": {
          "model_module": "@jupyter-widgets/controls",
          "model_name": "HTMLModel",
          "state": {
            "_view_name": "HTMLView",
            "style": "IPY_MODEL_ee86d040c00844c5a7a2d291c2f929de",
            "_dom_classes": [],
            "description": "",
            "_model_name": "HTMLModel",
            "placeholder": "​",
            "_view_module": "@jupyter-widgets/controls",
            "_model_module_version": "1.5.0",
            "value": " 9920512/? [00:20&lt;00:00, 1857733.92it/s]",
            "_view_count": null,
            "_view_module_version": "1.5.0",
            "description_tooltip": null,
            "_model_module": "@jupyter-widgets/controls",
            "layout": "IPY_MODEL_dd9a3ca7d02240168c157b21dfb69e8b"
          }
        },
        "4fcea03c48ef4e33ab6ca9d231be58b3": {
          "model_module": "@jupyter-widgets/controls",
          "model_name": "ProgressStyleModel",
          "state": {
            "_view_name": "StyleView",
            "_model_name": "ProgressStyleModel",
            "description_width": "initial",
            "_view_module": "@jupyter-widgets/base",
            "_model_module_version": "1.5.0",
            "_view_count": null,
            "_view_module_version": "1.2.0",
            "bar_color": null,
            "_model_module": "@jupyter-widgets/controls"
          }
        },
        "9c535013db2f4d039dfe649aba03bfcb": {
          "model_module": "@jupyter-widgets/base",
          "model_name": "LayoutModel",
          "state": {
            "_view_name": "LayoutView",
            "grid_template_rows": null,
            "right": null,
            "justify_content": null,
            "_view_module": "@jupyter-widgets/base",
            "overflow": null,
            "_model_module_version": "1.2.0",
            "_view_count": null,
            "flex_flow": null,
            "width": null,
            "min_width": null,
            "border": null,
            "align_items": null,
            "bottom": null,
            "_model_module": "@jupyter-widgets/base",
            "top": null,
            "grid_column": null,
            "overflow_y": null,
            "overflow_x": null,
            "grid_auto_flow": null,
            "grid_area": null,
            "grid_template_columns": null,
            "flex": null,
            "_model_name": "LayoutModel",
            "justify_items": null,
            "grid_row": null,
            "max_height": null,
            "align_content": null,
            "visibility": null,
            "align_self": null,
            "height": null,
            "min_height": null,
            "padding": null,
            "grid_auto_rows": null,
            "grid_gap": null,
            "max_width": null,
            "order": null,
            "_view_module_version": "1.2.0",
            "grid_template_areas": null,
            "object_position": null,
            "object_fit": null,
            "grid_auto_columns": null,
            "margin": null,
            "display": null,
            "left": null
          }
        },
        "ee86d040c00844c5a7a2d291c2f929de": {
          "model_module": "@jupyter-widgets/controls",
          "model_name": "DescriptionStyleModel",
          "state": {
            "_view_name": "StyleView",
            "_model_name": "DescriptionStyleModel",
            "description_width": "",
            "_view_module": "@jupyter-widgets/base",
            "_model_module_version": "1.5.0",
            "_view_count": null,
            "_view_module_version": "1.2.0",
            "_model_module": "@jupyter-widgets/controls"
          }
        },
        "dd9a3ca7d02240168c157b21dfb69e8b": {
          "model_module": "@jupyter-widgets/base",
          "model_name": "LayoutModel",
          "state": {
            "_view_name": "LayoutView",
            "grid_template_rows": null,
            "right": null,
            "justify_content": null,
            "_view_module": "@jupyter-widgets/base",
            "overflow": null,
            "_model_module_version": "1.2.0",
            "_view_count": null,
            "flex_flow": null,
            "width": null,
            "min_width": null,
            "border": null,
            "align_items": null,
            "bottom": null,
            "_model_module": "@jupyter-widgets/base",
            "top": null,
            "grid_column": null,
            "overflow_y": null,
            "overflow_x": null,
            "grid_auto_flow": null,
            "grid_area": null,
            "grid_template_columns": null,
            "flex": null,
            "_model_name": "LayoutModel",
            "justify_items": null,
            "grid_row": null,
            "max_height": null,
            "align_content": null,
            "visibility": null,
            "align_self": null,
            "height": null,
            "min_height": null,
            "padding": null,
            "grid_auto_rows": null,
            "grid_gap": null,
            "max_width": null,
            "order": null,
            "_view_module_version": "1.2.0",
            "grid_template_areas": null,
            "object_position": null,
            "object_fit": null,
            "grid_auto_columns": null,
            "margin": null,
            "display": null,
            "left": null
          }
        },
        "62e6f581f42c4053bd5326a46e57a9f0": {
          "model_module": "@jupyter-widgets/controls",
          "model_name": "HBoxModel",
          "state": {
            "_view_name": "HBoxView",
            "_dom_classes": [],
            "_model_name": "HBoxModel",
            "_view_module": "@jupyter-widgets/controls",
            "_model_module_version": "1.5.0",
            "_view_count": null,
            "_view_module_version": "1.5.0",
            "box_style": "",
            "layout": "IPY_MODEL_7408211f7c164609bf9548eba2fc5378",
            "_model_module": "@jupyter-widgets/controls",
            "children": [
              "IPY_MODEL_bc4bba8f92824bdca24e46f90ed86de3",
              "IPY_MODEL_259839b430a04e16becb94a11f713c2c"
            ]
          }
        },
        "7408211f7c164609bf9548eba2fc5378": {
          "model_module": "@jupyter-widgets/base",
          "model_name": "LayoutModel",
          "state": {
            "_view_name": "LayoutView",
            "grid_template_rows": null,
            "right": null,
            "justify_content": null,
            "_view_module": "@jupyter-widgets/base",
            "overflow": null,
            "_model_module_version": "1.2.0",
            "_view_count": null,
            "flex_flow": null,
            "width": null,
            "min_width": null,
            "border": null,
            "align_items": null,
            "bottom": null,
            "_model_module": "@jupyter-widgets/base",
            "top": null,
            "grid_column": null,
            "overflow_y": null,
            "overflow_x": null,
            "grid_auto_flow": null,
            "grid_area": null,
            "grid_template_columns": null,
            "flex": null,
            "_model_name": "LayoutModel",
            "justify_items": null,
            "grid_row": null,
            "max_height": null,
            "align_content": null,
            "visibility": null,
            "align_self": null,
            "height": null,
            "min_height": null,
            "padding": null,
            "grid_auto_rows": null,
            "grid_gap": null,
            "max_width": null,
            "order": null,
            "_view_module_version": "1.2.0",
            "grid_template_areas": null,
            "object_position": null,
            "object_fit": null,
            "grid_auto_columns": null,
            "margin": null,
            "display": null,
            "left": null
          }
        },
        "bc4bba8f92824bdca24e46f90ed86de3": {
          "model_module": "@jupyter-widgets/controls",
          "model_name": "FloatProgressModel",
          "state": {
            "_view_name": "ProgressView",
            "style": "IPY_MODEL_379f2bd1172b4154b00971de7025a2fb",
            "_dom_classes": [],
            "description": "",
            "_model_name": "FloatProgressModel",
            "bar_style": "success",
            "max": 1,
            "_view_module": "@jupyter-widgets/controls",
            "_model_module_version": "1.5.0",
            "value": 1,
            "_view_count": null,
            "_view_module_version": "1.5.0",
            "orientation": "horizontal",
            "min": 0,
            "description_tooltip": null,
            "_model_module": "@jupyter-widgets/controls",
            "layout": "IPY_MODEL_20151c864e2740a0b739125e54f69c75"
          }
        },
        "259839b430a04e16becb94a11f713c2c": {
          "model_module": "@jupyter-widgets/controls",
          "model_name": "HTMLModel",
          "state": {
            "_view_name": "HTMLView",
            "style": "IPY_MODEL_178f55791c7744d88919b9e18e438157",
            "_dom_classes": [],
            "description": "",
            "_model_name": "HTMLModel",
            "placeholder": "​",
            "_view_module": "@jupyter-widgets/controls",
            "_model_module_version": "1.5.0",
            "value": " 32768/? [00:02&lt;00:00, 11341.60it/s]",
            "_view_count": null,
            "_view_module_version": "1.5.0",
            "description_tooltip": null,
            "_model_module": "@jupyter-widgets/controls",
            "layout": "IPY_MODEL_880c3e8dc79d48aabd554b9f45d30fba"
          }
        },
        "379f2bd1172b4154b00971de7025a2fb": {
          "model_module": "@jupyter-widgets/controls",
          "model_name": "ProgressStyleModel",
          "state": {
            "_view_name": "StyleView",
            "_model_name": "ProgressStyleModel",
            "description_width": "initial",
            "_view_module": "@jupyter-widgets/base",
            "_model_module_version": "1.5.0",
            "_view_count": null,
            "_view_module_version": "1.2.0",
            "bar_color": null,
            "_model_module": "@jupyter-widgets/controls"
          }
        },
        "20151c864e2740a0b739125e54f69c75": {
          "model_module": "@jupyter-widgets/base",
          "model_name": "LayoutModel",
          "state": {
            "_view_name": "LayoutView",
            "grid_template_rows": null,
            "right": null,
            "justify_content": null,
            "_view_module": "@jupyter-widgets/base",
            "overflow": null,
            "_model_module_version": "1.2.0",
            "_view_count": null,
            "flex_flow": null,
            "width": null,
            "min_width": null,
            "border": null,
            "align_items": null,
            "bottom": null,
            "_model_module": "@jupyter-widgets/base",
            "top": null,
            "grid_column": null,
            "overflow_y": null,
            "overflow_x": null,
            "grid_auto_flow": null,
            "grid_area": null,
            "grid_template_columns": null,
            "flex": null,
            "_model_name": "LayoutModel",
            "justify_items": null,
            "grid_row": null,
            "max_height": null,
            "align_content": null,
            "visibility": null,
            "align_self": null,
            "height": null,
            "min_height": null,
            "padding": null,
            "grid_auto_rows": null,
            "grid_gap": null,
            "max_width": null,
            "order": null,
            "_view_module_version": "1.2.0",
            "grid_template_areas": null,
            "object_position": null,
            "object_fit": null,
            "grid_auto_columns": null,
            "margin": null,
            "display": null,
            "left": null
          }
        },
        "178f55791c7744d88919b9e18e438157": {
          "model_module": "@jupyter-widgets/controls",
          "model_name": "DescriptionStyleModel",
          "state": {
            "_view_name": "StyleView",
            "_model_name": "DescriptionStyleModel",
            "description_width": "",
            "_view_module": "@jupyter-widgets/base",
            "_model_module_version": "1.5.0",
            "_view_count": null,
            "_view_module_version": "1.2.0",
            "_model_module": "@jupyter-widgets/controls"
          }
        },
        "880c3e8dc79d48aabd554b9f45d30fba": {
          "model_module": "@jupyter-widgets/base",
          "model_name": "LayoutModel",
          "state": {
            "_view_name": "LayoutView",
            "grid_template_rows": null,
            "right": null,
            "justify_content": null,
            "_view_module": "@jupyter-widgets/base",
            "overflow": null,
            "_model_module_version": "1.2.0",
            "_view_count": null,
            "flex_flow": null,
            "width": null,
            "min_width": null,
            "border": null,
            "align_items": null,
            "bottom": null,
            "_model_module": "@jupyter-widgets/base",
            "top": null,
            "grid_column": null,
            "overflow_y": null,
            "overflow_x": null,
            "grid_auto_flow": null,
            "grid_area": null,
            "grid_template_columns": null,
            "flex": null,
            "_model_name": "LayoutModel",
            "justify_items": null,
            "grid_row": null,
            "max_height": null,
            "align_content": null,
            "visibility": null,
            "align_self": null,
            "height": null,
            "min_height": null,
            "padding": null,
            "grid_auto_rows": null,
            "grid_gap": null,
            "max_width": null,
            "order": null,
            "_view_module_version": "1.2.0",
            "grid_template_areas": null,
            "object_position": null,
            "object_fit": null,
            "grid_auto_columns": null,
            "margin": null,
            "display": null,
            "left": null
          }
        },
        "c63f094deef84029975816c7a439d4e7": {
          "model_module": "@jupyter-widgets/controls",
          "model_name": "HBoxModel",
          "state": {
            "_view_name": "HBoxView",
            "_dom_classes": [],
            "_model_name": "HBoxModel",
            "_view_module": "@jupyter-widgets/controls",
            "_model_module_version": "1.5.0",
            "_view_count": null,
            "_view_module_version": "1.5.0",
            "box_style": "",
            "layout": "IPY_MODEL_8dae35c08dea424eb415e5ca17b909d1",
            "_model_module": "@jupyter-widgets/controls",
            "children": [
              "IPY_MODEL_aaa6b5342a0e40fc831c65c92d45b76a",
              "IPY_MODEL_eb0207b88c9a4d028582fd7a98291e67"
            ]
          }
        },
        "8dae35c08dea424eb415e5ca17b909d1": {
          "model_module": "@jupyter-widgets/base",
          "model_name": "LayoutModel",
          "state": {
            "_view_name": "LayoutView",
            "grid_template_rows": null,
            "right": null,
            "justify_content": null,
            "_view_module": "@jupyter-widgets/base",
            "overflow": null,
            "_model_module_version": "1.2.0",
            "_view_count": null,
            "flex_flow": null,
            "width": null,
            "min_width": null,
            "border": null,
            "align_items": null,
            "bottom": null,
            "_model_module": "@jupyter-widgets/base",
            "top": null,
            "grid_column": null,
            "overflow_y": null,
            "overflow_x": null,
            "grid_auto_flow": null,
            "grid_area": null,
            "grid_template_columns": null,
            "flex": null,
            "_model_name": "LayoutModel",
            "justify_items": null,
            "grid_row": null,
            "max_height": null,
            "align_content": null,
            "visibility": null,
            "align_self": null,
            "height": null,
            "min_height": null,
            "padding": null,
            "grid_auto_rows": null,
            "grid_gap": null,
            "max_width": null,
            "order": null,
            "_view_module_version": "1.2.0",
            "grid_template_areas": null,
            "object_position": null,
            "object_fit": null,
            "grid_auto_columns": null,
            "margin": null,
            "display": null,
            "left": null
          }
        },
        "aaa6b5342a0e40fc831c65c92d45b76a": {
          "model_module": "@jupyter-widgets/controls",
          "model_name": "FloatProgressModel",
          "state": {
            "_view_name": "ProgressView",
            "style": "IPY_MODEL_28e8c6dac18c464d946defcb5f69d405",
            "_dom_classes": [],
            "description": "",
            "_model_name": "FloatProgressModel",
            "bar_style": "success",
            "max": 1,
            "_view_module": "@jupyter-widgets/controls",
            "_model_module_version": "1.5.0",
            "value": 1,
            "_view_count": null,
            "_view_module_version": "1.5.0",
            "orientation": "horizontal",
            "min": 0,
            "description_tooltip": null,
            "_model_module": "@jupyter-widgets/controls",
            "layout": "IPY_MODEL_9b5cd48ae81440618092dba206c1a45a"
          }
        },
        "eb0207b88c9a4d028582fd7a98291e67": {
          "model_module": "@jupyter-widgets/controls",
          "model_name": "HTMLModel",
          "state": {
            "_view_name": "HTMLView",
            "style": "IPY_MODEL_f0f7367caa1f4f009538eb83b8d30335",
            "_dom_classes": [],
            "description": "",
            "_model_name": "HTMLModel",
            "placeholder": "​",
            "_view_module": "@jupyter-widgets/controls",
            "_model_module_version": "1.5.0",
            "value": " 1654784/? [00:02&lt;00:00, 612599.12it/s]",
            "_view_count": null,
            "_view_module_version": "1.5.0",
            "description_tooltip": null,
            "_model_module": "@jupyter-widgets/controls",
            "layout": "IPY_MODEL_e1ff82fa1ab54baa850929e6eb4b3ffe"
          }
        },
        "28e8c6dac18c464d946defcb5f69d405": {
          "model_module": "@jupyter-widgets/controls",
          "model_name": "ProgressStyleModel",
          "state": {
            "_view_name": "StyleView",
            "_model_name": "ProgressStyleModel",
            "description_width": "initial",
            "_view_module": "@jupyter-widgets/base",
            "_model_module_version": "1.5.0",
            "_view_count": null,
            "_view_module_version": "1.2.0",
            "bar_color": null,
            "_model_module": "@jupyter-widgets/controls"
          }
        },
        "9b5cd48ae81440618092dba206c1a45a": {
          "model_module": "@jupyter-widgets/base",
          "model_name": "LayoutModel",
          "state": {
            "_view_name": "LayoutView",
            "grid_template_rows": null,
            "right": null,
            "justify_content": null,
            "_view_module": "@jupyter-widgets/base",
            "overflow": null,
            "_model_module_version": "1.2.0",
            "_view_count": null,
            "flex_flow": null,
            "width": null,
            "min_width": null,
            "border": null,
            "align_items": null,
            "bottom": null,
            "_model_module": "@jupyter-widgets/base",
            "top": null,
            "grid_column": null,
            "overflow_y": null,
            "overflow_x": null,
            "grid_auto_flow": null,
            "grid_area": null,
            "grid_template_columns": null,
            "flex": null,
            "_model_name": "LayoutModel",
            "justify_items": null,
            "grid_row": null,
            "max_height": null,
            "align_content": null,
            "visibility": null,
            "align_self": null,
            "height": null,
            "min_height": null,
            "padding": null,
            "grid_auto_rows": null,
            "grid_gap": null,
            "max_width": null,
            "order": null,
            "_view_module_version": "1.2.0",
            "grid_template_areas": null,
            "object_position": null,
            "object_fit": null,
            "grid_auto_columns": null,
            "margin": null,
            "display": null,
            "left": null
          }
        },
        "f0f7367caa1f4f009538eb83b8d30335": {
          "model_module": "@jupyter-widgets/controls",
          "model_name": "DescriptionStyleModel",
          "state": {
            "_view_name": "StyleView",
            "_model_name": "DescriptionStyleModel",
            "description_width": "",
            "_view_module": "@jupyter-widgets/base",
            "_model_module_version": "1.5.0",
            "_view_count": null,
            "_view_module_version": "1.2.0",
            "_model_module": "@jupyter-widgets/controls"
          }
        },
        "e1ff82fa1ab54baa850929e6eb4b3ffe": {
          "model_module": "@jupyter-widgets/base",
          "model_name": "LayoutModel",
          "state": {
            "_view_name": "LayoutView",
            "grid_template_rows": null,
            "right": null,
            "justify_content": null,
            "_view_module": "@jupyter-widgets/base",
            "overflow": null,
            "_model_module_version": "1.2.0",
            "_view_count": null,
            "flex_flow": null,
            "width": null,
            "min_width": null,
            "border": null,
            "align_items": null,
            "bottom": null,
            "_model_module": "@jupyter-widgets/base",
            "top": null,
            "grid_column": null,
            "overflow_y": null,
            "overflow_x": null,
            "grid_auto_flow": null,
            "grid_area": null,
            "grid_template_columns": null,
            "flex": null,
            "_model_name": "LayoutModel",
            "justify_items": null,
            "grid_row": null,
            "max_height": null,
            "align_content": null,
            "visibility": null,
            "align_self": null,
            "height": null,
            "min_height": null,
            "padding": null,
            "grid_auto_rows": null,
            "grid_gap": null,
            "max_width": null,
            "order": null,
            "_view_module_version": "1.2.0",
            "grid_template_areas": null,
            "object_position": null,
            "object_fit": null,
            "grid_auto_columns": null,
            "margin": null,
            "display": null,
            "left": null
          }
        },
        "5878aae46a2e48feaf1eaf58188e2008": {
          "model_module": "@jupyter-widgets/controls",
          "model_name": "HBoxModel",
          "state": {
            "_view_name": "HBoxView",
            "_dom_classes": [],
            "_model_name": "HBoxModel",
            "_view_module": "@jupyter-widgets/controls",
            "_model_module_version": "1.5.0",
            "_view_count": null,
            "_view_module_version": "1.5.0",
            "box_style": "",
            "layout": "IPY_MODEL_7c92bf1c501d4a269977d2e253e96700",
            "_model_module": "@jupyter-widgets/controls",
            "children": [
              "IPY_MODEL_cccbb8a1623d40d98c5003f57795655f",
              "IPY_MODEL_354c9c06e7024d6f8c1497b7c67c96a6"
            ]
          }
        },
        "7c92bf1c501d4a269977d2e253e96700": {
          "model_module": "@jupyter-widgets/base",
          "model_name": "LayoutModel",
          "state": {
            "_view_name": "LayoutView",
            "grid_template_rows": null,
            "right": null,
            "justify_content": null,
            "_view_module": "@jupyter-widgets/base",
            "overflow": null,
            "_model_module_version": "1.2.0",
            "_view_count": null,
            "flex_flow": null,
            "width": null,
            "min_width": null,
            "border": null,
            "align_items": null,
            "bottom": null,
            "_model_module": "@jupyter-widgets/base",
            "top": null,
            "grid_column": null,
            "overflow_y": null,
            "overflow_x": null,
            "grid_auto_flow": null,
            "grid_area": null,
            "grid_template_columns": null,
            "flex": null,
            "_model_name": "LayoutModel",
            "justify_items": null,
            "grid_row": null,
            "max_height": null,
            "align_content": null,
            "visibility": null,
            "align_self": null,
            "height": null,
            "min_height": null,
            "padding": null,
            "grid_auto_rows": null,
            "grid_gap": null,
            "max_width": null,
            "order": null,
            "_view_module_version": "1.2.0",
            "grid_template_areas": null,
            "object_position": null,
            "object_fit": null,
            "grid_auto_columns": null,
            "margin": null,
            "display": null,
            "left": null
          }
        },
        "cccbb8a1623d40d98c5003f57795655f": {
          "model_module": "@jupyter-widgets/controls",
          "model_name": "FloatProgressModel",
          "state": {
            "_view_name": "ProgressView",
            "style": "IPY_MODEL_9294a1e594024af8b10017abfed91d04",
            "_dom_classes": [],
            "description": "",
            "_model_name": "FloatProgressModel",
            "bar_style": "success",
            "max": 1,
            "_view_module": "@jupyter-widgets/controls",
            "_model_module_version": "1.5.0",
            "value": 1,
            "_view_count": null,
            "_view_module_version": "1.5.0",
            "orientation": "horizontal",
            "min": 0,
            "description_tooltip": null,
            "_model_module": "@jupyter-widgets/controls",
            "layout": "IPY_MODEL_db9051f7170549c5bc31e4dda87d8fe1"
          }
        },
        "354c9c06e7024d6f8c1497b7c67c96a6": {
          "model_module": "@jupyter-widgets/controls",
          "model_name": "HTMLModel",
          "state": {
            "_view_name": "HTMLView",
            "style": "IPY_MODEL_5c32f03a240a49a981ef8c6dcb0b00b5",
            "_dom_classes": [],
            "description": "",
            "_model_name": "HTMLModel",
            "placeholder": "​",
            "_view_module": "@jupyter-widgets/controls",
            "_model_module_version": "1.5.0",
            "value": " 8192/? [00:02&lt;00:00, 3532.62it/s]",
            "_view_count": null,
            "_view_module_version": "1.5.0",
            "description_tooltip": null,
            "_model_module": "@jupyter-widgets/controls",
            "layout": "IPY_MODEL_ecd31db0320b4f1bae72bdf1b6c19cb2"
          }
        },
        "9294a1e594024af8b10017abfed91d04": {
          "model_module": "@jupyter-widgets/controls",
          "model_name": "ProgressStyleModel",
          "state": {
            "_view_name": "StyleView",
            "_model_name": "ProgressStyleModel",
            "description_width": "initial",
            "_view_module": "@jupyter-widgets/base",
            "_model_module_version": "1.5.0",
            "_view_count": null,
            "_view_module_version": "1.2.0",
            "bar_color": null,
            "_model_module": "@jupyter-widgets/controls"
          }
        },
        "db9051f7170549c5bc31e4dda87d8fe1": {
          "model_module": "@jupyter-widgets/base",
          "model_name": "LayoutModel",
          "state": {
            "_view_name": "LayoutView",
            "grid_template_rows": null,
            "right": null,
            "justify_content": null,
            "_view_module": "@jupyter-widgets/base",
            "overflow": null,
            "_model_module_version": "1.2.0",
            "_view_count": null,
            "flex_flow": null,
            "width": null,
            "min_width": null,
            "border": null,
            "align_items": null,
            "bottom": null,
            "_model_module": "@jupyter-widgets/base",
            "top": null,
            "grid_column": null,
            "overflow_y": null,
            "overflow_x": null,
            "grid_auto_flow": null,
            "grid_area": null,
            "grid_template_columns": null,
            "flex": null,
            "_model_name": "LayoutModel",
            "justify_items": null,
            "grid_row": null,
            "max_height": null,
            "align_content": null,
            "visibility": null,
            "align_self": null,
            "height": null,
            "min_height": null,
            "padding": null,
            "grid_auto_rows": null,
            "grid_gap": null,
            "max_width": null,
            "order": null,
            "_view_module_version": "1.2.0",
            "grid_template_areas": null,
            "object_position": null,
            "object_fit": null,
            "grid_auto_columns": null,
            "margin": null,
            "display": null,
            "left": null
          }
        },
        "5c32f03a240a49a981ef8c6dcb0b00b5": {
          "model_module": "@jupyter-widgets/controls",
          "model_name": "DescriptionStyleModel",
          "state": {
            "_view_name": "StyleView",
            "_model_name": "DescriptionStyleModel",
            "description_width": "",
            "_view_module": "@jupyter-widgets/base",
            "_model_module_version": "1.5.0",
            "_view_count": null,
            "_view_module_version": "1.2.0",
            "_model_module": "@jupyter-widgets/controls"
          }
        },
        "ecd31db0320b4f1bae72bdf1b6c19cb2": {
          "model_module": "@jupyter-widgets/base",
          "model_name": "LayoutModel",
          "state": {
            "_view_name": "LayoutView",
            "grid_template_rows": null,
            "right": null,
            "justify_content": null,
            "_view_module": "@jupyter-widgets/base",
            "overflow": null,
            "_model_module_version": "1.2.0",
            "_view_count": null,
            "flex_flow": null,
            "width": null,
            "min_width": null,
            "border": null,
            "align_items": null,
            "bottom": null,
            "_model_module": "@jupyter-widgets/base",
            "top": null,
            "grid_column": null,
            "overflow_y": null,
            "overflow_x": null,
            "grid_auto_flow": null,
            "grid_area": null,
            "grid_template_columns": null,
            "flex": null,
            "_model_name": "LayoutModel",
            "justify_items": null,
            "grid_row": null,
            "max_height": null,
            "align_content": null,
            "visibility": null,
            "align_self": null,
            "height": null,
            "min_height": null,
            "padding": null,
            "grid_auto_rows": null,
            "grid_gap": null,
            "max_width": null,
            "order": null,
            "_view_module_version": "1.2.0",
            "grid_template_areas": null,
            "object_position": null,
            "object_fit": null,
            "grid_auto_columns": null,
            "margin": null,
            "display": null,
            "left": null
          }
        }
      }
    }
  },
  "cells": [
    {
      "cell_type": "markdown",
      "metadata": {
        "id": "view-in-github",
        "colab_type": "text"
      },
      "source": [
        "<a href=\"https://colab.research.google.com/github/bdubreu/fastpractice/blob/master/BatchNorm_vs_EvoNorm.ipynb\" target=\"_parent\"><img src=\"https://colab.research.google.com/assets/colab-badge.svg\" alt=\"Open In Colab\"/></a>"
      ]
    },
    {
      "cell_type": "code",
      "metadata": {
        "id": "Nnc9xpQzdJD0",
        "colab_type": "code",
        "colab": {}
      },
      "source": [
        "import numpy as np\n",
        "import pandas as pd\n",
        "import torch\n",
        "from torch import nn\n",
        "from torchvision.datasets import MNIST\n",
        "import torch.nn.functional as F"
      ],
      "execution_count": 0,
      "outputs": []
    },
    {
      "cell_type": "code",
      "metadata": {
        "id": "ue2o2v-9dSbu",
        "colab_type": "code",
        "colab": {
          "base_uri": "https://localhost:8080/",
          "height": 356,
          "referenced_widgets": [
            "45136b7b95bc48e0b22771805a7d70d5",
            "c47f2de1f3a04576a64978ab840b03b9",
            "aa70b200a7ba41618d81eafe1814ae31",
            "d681ea5034354588aa803a7c79e18782",
            "4fcea03c48ef4e33ab6ca9d231be58b3",
            "9c535013db2f4d039dfe649aba03bfcb",
            "ee86d040c00844c5a7a2d291c2f929de",
            "dd9a3ca7d02240168c157b21dfb69e8b",
            "62e6f581f42c4053bd5326a46e57a9f0",
            "7408211f7c164609bf9548eba2fc5378",
            "bc4bba8f92824bdca24e46f90ed86de3",
            "259839b430a04e16becb94a11f713c2c",
            "379f2bd1172b4154b00971de7025a2fb",
            "20151c864e2740a0b739125e54f69c75",
            "178f55791c7744d88919b9e18e438157",
            "880c3e8dc79d48aabd554b9f45d30fba",
            "c63f094deef84029975816c7a439d4e7",
            "8dae35c08dea424eb415e5ca17b909d1",
            "aaa6b5342a0e40fc831c65c92d45b76a",
            "eb0207b88c9a4d028582fd7a98291e67",
            "28e8c6dac18c464d946defcb5f69d405",
            "9b5cd48ae81440618092dba206c1a45a",
            "f0f7367caa1f4f009538eb83b8d30335",
            "e1ff82fa1ab54baa850929e6eb4b3ffe",
            "5878aae46a2e48feaf1eaf58188e2008",
            "7c92bf1c501d4a269977d2e253e96700",
            "cccbb8a1623d40d98c5003f57795655f",
            "354c9c06e7024d6f8c1497b7c67c96a6",
            "9294a1e594024af8b10017abfed91d04",
            "db9051f7170549c5bc31e4dda87d8fe1",
            "5c32f03a240a49a981ef8c6dcb0b00b5",
            "ecd31db0320b4f1bae72bdf1b6c19cb2"
          ]
        },
        "outputId": "85dba3a9-1ad3-46b0-b73d-b99f7eb443d8"
      },
      "source": [
        "trainset = MNIST('../', download=True, train=True)\n",
        "testset = MNIST('../', download=True, train=False)\n",
        "\n",
        "y_trainset = trainset.targets\n",
        "y_testset = testset.targets\n",
        "\n",
        "# this time, we resize the data to have directly one channel for convolutions\n",
        "trainset = trainset.data.reshape(60000, 1, 28, 28).to(torch.float32)\n",
        "testset = testset.data.reshape(10000, 1, 28, 28).to(torch.float32)\n",
        "\n",
        "# normalize\n",
        "m, s = trainset.mean(), trainset.std()\n",
        "trainset = (trainset - m) / s\n",
        "testset = (testset - m) / s"
      ],
      "execution_count": 3,
      "outputs": [
        {
          "output_type": "stream",
          "text": [
            "Downloading http://yann.lecun.com/exdb/mnist/train-images-idx3-ubyte.gz to ../MNIST/raw/train-images-idx3-ubyte.gz\n"
          ],
          "name": "stdout"
        },
        {
          "output_type": "display_data",
          "data": {
            "application/vnd.jupyter.widget-view+json": {
              "model_id": "45136b7b95bc48e0b22771805a7d70d5",
              "version_minor": 0,
              "version_major": 2
            },
            "text/plain": [
              "HBox(children=(FloatProgress(value=1.0, bar_style='info', max=1.0), HTML(value='')))"
            ]
          },
          "metadata": {
            "tags": []
          }
        },
        {
          "output_type": "stream",
          "text": [
            "Extracting ../MNIST/raw/train-images-idx3-ubyte.gz to ../MNIST/raw\n",
            "Downloading http://yann.lecun.com/exdb/mnist/train-labels-idx1-ubyte.gz to ../MNIST/raw/train-labels-idx1-ubyte.gz\n"
          ],
          "name": "stdout"
        },
        {
          "output_type": "display_data",
          "data": {
            "application/vnd.jupyter.widget-view+json": {
              "model_id": "62e6f581f42c4053bd5326a46e57a9f0",
              "version_minor": 0,
              "version_major": 2
            },
            "text/plain": [
              "HBox(children=(FloatProgress(value=1.0, bar_style='info', max=1.0), HTML(value='')))"
            ]
          },
          "metadata": {
            "tags": []
          }
        },
        {
          "output_type": "stream",
          "text": [
            "Extracting ../MNIST/raw/train-labels-idx1-ubyte.gz to ../MNIST/raw\n",
            "Downloading http://yann.lecun.com/exdb/mnist/t10k-images-idx3-ubyte.gz to ../MNIST/raw/t10k-images-idx3-ubyte.gz\n"
          ],
          "name": "stdout"
        },
        {
          "output_type": "display_data",
          "data": {
            "application/vnd.jupyter.widget-view+json": {
              "model_id": "c63f094deef84029975816c7a439d4e7",
              "version_minor": 0,
              "version_major": 2
            },
            "text/plain": [
              "HBox(children=(FloatProgress(value=1.0, bar_style='info', max=1.0), HTML(value='')))"
            ]
          },
          "metadata": {
            "tags": []
          }
        },
        {
          "output_type": "stream",
          "text": [
            "Extracting ../MNIST/raw/t10k-images-idx3-ubyte.gz to ../MNIST/raw\n",
            "Downloading http://yann.lecun.com/exdb/mnist/t10k-labels-idx1-ubyte.gz to ../MNIST/raw/t10k-labels-idx1-ubyte.gz\n"
          ],
          "name": "stdout"
        },
        {
          "output_type": "display_data",
          "data": {
            "application/vnd.jupyter.widget-view+json": {
              "model_id": "5878aae46a2e48feaf1eaf58188e2008",
              "version_minor": 0,
              "version_major": 2
            },
            "text/plain": [
              "HBox(children=(FloatProgress(value=1.0, bar_style='info', max=1.0), HTML(value='')))"
            ]
          },
          "metadata": {
            "tags": []
          }
        },
        {
          "output_type": "stream",
          "text": [
            "Extracting ../MNIST/raw/t10k-labels-idx1-ubyte.gz to ../MNIST/raw\n",
            "Processing...\n",
            "Done!\n"
          ],
          "name": "stdout"
        },
        {
          "output_type": "stream",
          "text": [
            "/pytorch/torch/csrc/utils/tensor_numpy.cpp:141: UserWarning: The given NumPy array is not writeable, and PyTorch does not support non-writeable tensors. This means you can write to the underlying (supposedly non-writeable) NumPy array using the tensor. You may want to copy the array to protect its data or make it writeable before converting it to a tensor. This type of warning will be suppressed for the rest of this program.\n"
          ],
          "name": "stderr"
        }
      ]
    },
    {
      "cell_type": "code",
      "metadata": {
        "id": "uukvLwYzdT7U",
        "colab_type": "code",
        "colab": {}
      },
      "source": [
        "from torch.utils.data import Dataset, DataLoader\n",
        "from torch.utils.data.dataset import random_split\n",
        "\n",
        "from torch.optim import SGD"
      ],
      "execution_count": 0,
      "outputs": []
    },
    {
      "cell_type": "code",
      "metadata": {
        "id": "ikrPZXD2dgV-",
        "colab_type": "code",
        "colab": {}
      },
      "source": [
        "def accuracy(output, target):\n",
        "    return (torch.argmax(output, dim=1) == target).float().mean()"
      ],
      "execution_count": 0,
      "outputs": []
    },
    {
      "cell_type": "code",
      "metadata": {
        "id": "6CfmO7Iwdeuo",
        "colab_type": "code",
        "colab": {
          "base_uri": "https://localhost:8080/",
          "height": 69
        },
        "outputId": "82ff0b8f-c58b-4205-a618-b18f1c24e66e"
      },
      "source": [
        "class MNIST_Dataset(Dataset):\n",
        "    def __init__(self, x_tensor, y_tensor):\n",
        "        self.x = x_tensor\n",
        "        self.y = y_tensor\n",
        "\n",
        "    def __getitem__(self, idx):\n",
        "        return (self.x[idx], self.y[idx])\n",
        "\n",
        "    def __len__(self):\n",
        "        return len(self.x)"
      ],
      "execution_count": 6,
      "outputs": [
        {
          "output_type": "stream",
          "text": [
            "\n",
            "\n",
            "\n"
          ],
          "name": "stdout"
        }
      ]
    },
    {
      "cell_type": "code",
      "metadata": {
        "id": "QjaxmGk0djJN",
        "colab_type": "code",
        "colab": {}
      },
      "source": [
        "x_train, x_valid = trainset[0:50000, :], trainset[50000:, :]\n",
        "y_train, y_valid = y_trainset[0:50000], y_trainset[50000:]\n",
        "\n",
        "train = MNIST_Dataset(x_train, y_train)\n",
        "valid = MNIST_Dataset(x_valid, y_valid)"
      ],
      "execution_count": 0,
      "outputs": []
    },
    {
      "cell_type": "code",
      "metadata": {
        "id": "ZCryJU41dnVb",
        "colab_type": "code",
        "colab": {}
      },
      "source": [
        "EPOCHS = 5\n",
        "bs = 64\n",
        "lr = 0.05\n",
        "loss_func = F.cross_entropy\n",
        "\n",
        "\n",
        "train_dl = DataLoader(train, bs, shuffle=True)\n",
        "valid_dl = DataLoader(valid, bs, shuffle=False)"
      ],
      "execution_count": 0,
      "outputs": []
    },
    {
      "cell_type": "code",
      "metadata": {
        "id": "h5pUqwDZdpW-",
        "colab_type": "code",
        "colab": {}
      },
      "source": [
        "# Define model\n",
        "class Lambda(nn.Module):\n",
        "    def __init__(self, func):\n",
        "        super().__init__()\n",
        "        self.func = func\n",
        "\n",
        "    def forward(self, x):\n",
        "        return self.func(x)\n",
        "\n",
        "\n",
        "def flatten(x):\n",
        "    return x.view(x.shape[0], -1)\n",
        "\n",
        "\n",
        "model = nn.Sequential(\n",
        "    nn.Conv2d(in_channels=1, out_channels=4,\n",
        "              kernel_size=3, stride=2, padding=1),  # bs*4*14*14\n",
        "    nn.ReLU(),\n",
        "    nn.Conv2d(4, 8, 3, 2, 1),  # bs * 8 * 7 * 7\n",
        "    nn.ReLU(),\n",
        "    nn.Conv2d(8, 16, 3, 2, 1),  # bs * 16 * 4 * 4\n",
        "    nn.ReLU(),\n",
        "    nn.Conv2d(16, 32, 3, 2, 1),  # bs * 32 * 2 * 2\n",
        "    nn.ReLU(),\n",
        "    nn.Conv2d(32, 64, 3, 2, 1),  # bs * 64 * 1 * 1\n",
        "    nn.AdaptiveAvgPool2d(1),\n",
        "    Lambda(flatten),\n",
        "    nn.Linear(64, 10)\n",
        ")\n",
        "\n",
        "opt = SGD(model.parameters(), lr)"
      ],
      "execution_count": 0,
      "outputs": []
    },
    {
      "cell_type": "code",
      "metadata": {
        "id": "3tCETPY6dr_9",
        "colab_type": "code",
        "colab": {
          "base_uri": "https://localhost:8080/",
          "height": 104
        },
        "outputId": "e0a28124-fdd1-4490-a1c2-b62aeb4457a9"
      },
      "source": [
        "for epoch in range(EPOCHS):\n",
        "    model.train()\n",
        "    for xb, yb in train_dl:\n",
        "        loss = loss_func(model.cuda()(xb.cuda()), yb.cuda())\n",
        "        loss.backward()\n",
        "        opt.step()\n",
        "        opt.zero_grad()\n",
        "\n",
        "    model.eval()\n",
        "    with torch.no_grad():\n",
        "        total_loss, total_acc = 0., 0.\n",
        "        for xb, yb in valid_dl:\n",
        "            pred = model(xb.cuda())\n",
        "            total_loss += loss_func(pred, yb.cuda())\n",
        "            total_acc += accuracy(pred, yb.cuda())\n",
        "        n_entries = len(valid_dl)\n",
        "        print('epoch', epoch,\n",
        "              'loss:', (total_loss/n_entries).item(),\n",
        "              'accuracy:', (total_acc/n_entries).item()\n",
        "              )"
      ],
      "execution_count": 10,
      "outputs": [
        {
          "output_type": "stream",
          "text": [
            "epoch 0 loss: 0.892424464225769 accuracy: 0.7540804147720337\n",
            "epoch 1 loss: 0.1958770602941513 accuracy: 0.9364052414894104\n",
            "epoch 2 loss: 0.19175830483436584 accuracy: 0.9442675113677979\n",
            "epoch 3 loss: 0.17649568617343903 accuracy: 0.9483479261398315\n",
            "epoch 4 loss: 0.1715310513973236 accuracy: 0.950039803981781\n"
          ],
          "name": "stdout"
        }
      ]
    },
    {
      "cell_type": "markdown",
      "metadata": {
        "id": "uNMa99K6dv8T",
        "colab_type": "text"
      },
      "source": [
        "# Add BatchNorm"
      ]
    },
    {
      "cell_type": "code",
      "metadata": {
        "id": "_1RmAo5xdyTm",
        "colab_type": "code",
        "colab": {}
      },
      "source": [
        "# This is starting to be messy. We'll see if we can factor this out\n",
        "model = nn.Sequential(\n",
        "    nn.Conv2d(in_channels=1, out_channels=8,\n",
        "              kernel_size=3, stride=2, padding=1, bias=False),  # bs*4*14*14\n",
        "    nn.BatchNorm2d(8),\n",
        "    nn.ReLU(),\n",
        "    nn.Conv2d(8, 16, 3, 2, 1, bias=False),  # bs * 8 * 7 * 7\n",
        "    nn.BatchNorm2d(16),\n",
        "    nn.ReLU(),\n",
        "    nn.Conv2d(16, 32, 3, 2, 1, bias=False),  # bs * 16 * 4 * 4\n",
        "    nn.BatchNorm2d(32),\n",
        "    nn.ReLU(),\n",
        "    nn.Conv2d(32, 64, 3, 2, 1, bias=False),  # bs * 32 * 2 * 2\n",
        "    nn.BatchNorm2d(64),\n",
        "    nn.ReLU(),\n",
        "    nn.Conv2d(64, 64, 3, 2, 1, bias=False),  # bs * 64 * 1 * 1\n",
        "    nn.BatchNorm2d(64),\n",
        "    nn.AdaptiveAvgPool2d(1),\n",
        "    Lambda(flatten),\n",
        "    nn.Linear(64, 10)\n",
        ")"
      ],
      "execution_count": 0,
      "outputs": []
    },
    {
      "cell_type": "code",
      "metadata": {
        "id": "4yyNZwcld3BU",
        "colab_type": "code",
        "colab": {}
      },
      "source": [
        "opt = SGD(model.parameters(), lr)"
      ],
      "execution_count": 0,
      "outputs": []
    },
    {
      "cell_type": "code",
      "metadata": {
        "id": "GsBFL108eDcf",
        "colab_type": "code",
        "colab": {
          "base_uri": "https://localhost:8080/",
          "height": 104
        },
        "outputId": "66d62381-72d3-4550-85a1-4f60e83183ac"
      },
      "source": [
        "for epoch in range(EPOCHS):\n",
        "    model.train()\n",
        "    for xb, yb in train_dl:\n",
        "        loss = loss_func(model.cuda()(xb.cuda()), yb.cuda())\n",
        "        loss.backward()\n",
        "        opt.step()\n",
        "        opt.zero_grad()\n",
        "\n",
        "    model.eval()\n",
        "    with torch.no_grad():\n",
        "        total_loss, total_acc = 0., 0.\n",
        "        for xb, yb in valid_dl:\n",
        "            pred = model(xb.cuda())\n",
        "            total_loss += loss_func(pred, yb.cuda())\n",
        "            total_acc += accuracy(pred, yb.cuda())\n",
        "        n_entries = len(valid_dl)\n",
        "        print('epoch', epoch,\n",
        "              'loss:', (total_loss/n_entries).item(),\n",
        "              'accuracy:', (total_acc/n_entries).item()\n",
        "              )"
      ],
      "execution_count": 13,
      "outputs": [
        {
          "output_type": "stream",
          "text": [
            "epoch 0 loss: 0.08148886263370514 accuracy: 0.9772093892097473\n",
            "epoch 1 loss: 0.054623913019895554 accuracy: 0.9842755198478699\n",
            "epoch 2 loss: 0.5990749597549438 accuracy: 0.8552945852279663\n",
            "epoch 3 loss: 0.0878567323088646 accuracy: 0.9727309346199036\n",
            "epoch 4 loss: 0.04501421004533768 accuracy: 0.9870620965957642\n"
          ],
          "name": "stdout"
        }
      ]
    },
    {
      "cell_type": "markdown",
      "metadata": {
        "id": "rnYTFn_xecL-",
        "colab_type": "text"
      },
      "source": [
        "# Try EVONorm"
      ]
    },
    {
      "cell_type": "code",
      "metadata": {
        "id": "SDF6SLHJ32Qy",
        "colab_type": "code",
        "colab": {}
      },
      "source": [
        "import torch\n",
        "import torch.nn as nn\n",
        "\n",
        "\n",
        "class SwishImplementation(torch.autograd.Function):\n",
        "    @staticmethod\n",
        "    def forward(ctx, i):\n",
        "        ctx.save_for_backward(i)\n",
        "        return i * torch.sigmoid(i)\n",
        "\n",
        "    @staticmethod\n",
        "    def backward(ctx, grad_output):\n",
        "        sigmoid_i = torch.sigmoid(ctx.saved_variables[0])\n",
        "        return grad_output * (sigmoid_i * (1 + ctx.saved_variables[0] * (1 - sigmoid_i)))\n",
        "\n",
        "\n",
        "class MemoryEfficientSwish(nn.Module):\n",
        "    def forward(self, x):\n",
        "        return SwishImplementation.apply(x)\n",
        "\n",
        "def instance_std(x, eps=1e-5):\n",
        "    var = torch.var(x, dim = (2, 3), keepdim=True).expand_as(x)\n",
        "    if torch.isnan(var).any():\n",
        "        var = torch.zeros(var.shape)\n",
        "    return torch.sqrt(var + eps)\n",
        "\n",
        "def group_std(x, groups = 32, eps = 1e-5):\n",
        "    N, C, H, W = x.size()\n",
        "    x = torch.reshape(x, (N, groups, C // groups, H, W))\n",
        "    var = torch.var(x, dim = (2, 3, 4), keepdim = True).expand_as(x)\n",
        "    return torch.reshape(torch.sqrt(var + eps), (N, C, H, W))\n",
        "\n",
        "class EvoNorm2D(nn.Module):\n",
        "\n",
        "    def __init__(self, input, non_linear=True, version='B0', efficient=False, affine=True, momentum=0.9, eps=1e-5, groups=32, training=True):\n",
        "        super(EvoNorm2D, self).__init__()\n",
        "        self.non_linear = non_linear\n",
        "        self.version = version\n",
        "        self.training = training\n",
        "        self.momentum = momentum\n",
        "        self.efficient = efficient\n",
        "        if self.version == 'S0':\n",
        "            self.swish = MemoryEfficientSwish()\n",
        "        self.groups = groups\n",
        "        self.eps = eps\n",
        "        if self.version not in ['B0', 'S0']:\n",
        "            raise ValueError(\"Invalid EvoNorm version\")\n",
        "        self.insize = input\n",
        "        self.affine = affine\n",
        "\n",
        "        if self.affine:\n",
        "            self.gamma = nn.Parameter(torch.ones(1, self.insize, 1, 1))\n",
        "            self.beta = nn.Parameter(torch.zeros(1, self.insize, 1, 1))\n",
        "            if self.non_linear:\n",
        "                self.v = nn.Parameter(torch.ones(1,self.insize,1,1))\n",
        "        else:\n",
        "            self.register_parameter('gamma', None)\n",
        "            self.register_parameter('beta', None)\n",
        "            self.register_buffer('v', None)\n",
        "        self.register_buffer('running_var', torch.ones(1, self.insize, 1, 1))\n",
        "\n",
        "        self.reset_parameters()\n",
        "\n",
        "    def reset_parameters(self):\n",
        "        self.running_var.fill_(1)\n",
        "\n",
        "    def _check_input_dim(self, x):\n",
        "        if x.dim() != 4:\n",
        "            raise ValueError('expected 4D input (got {}D input)'\n",
        "                             .format(x.dim()))\n",
        "    \n",
        "    def forward(self, x):\n",
        "        self._check_input_dim(x)\n",
        "        if self.version == 'S0':\n",
        "            if self.non_linear:\n",
        "                if not self.efficient:\n",
        "                    num = x * torch.sigmoid(self.v * x)   # Original Swish Implementation, however memory intensive.\n",
        "                else:\n",
        "                    num = self.swish(x)    # Experimental Memory Efficient Variant of Swish\n",
        "                return num / group_std(x, groups = self.groups, eps = self.eps) * self.gamma + self.beta\n",
        "            else:\n",
        "                return x * self.gamma + self.beta\n",
        "        if self.version == 'B0':\n",
        "            if self.training:\n",
        "                var = torch.var(x, dim=(0, 2, 3), unbiased=False, keepdim=True)\n",
        "                self.running_var.mul_(self.momentum)\n",
        "                self.running_var.add_((1 - self.momentum) * var)\n",
        "                #print('yo')\n",
        "            else:\n",
        "                var = self.running_var\n",
        "\n",
        "            if self.non_linear:\n",
        "                den = torch.max((var+self.eps).sqrt(), self.v * x + instance_std(x, eps=self.eps).cuda())\n",
        "                return x / den * self.gamma + self.beta\n",
        "            else:\n",
        "                return x * self.gamma + self.beta"
      ],
      "execution_count": 0,
      "outputs": []
    },
    {
      "cell_type": "code",
      "metadata": {
        "id": "VKy7D5h932px",
        "colab_type": "code",
        "colab": {}
      },
      "source": [
        "# This is starting to be messy. We'll see if we can factor this out\n",
        "model = nn.Sequential(\n",
        "    nn.Conv2d(in_channels=1, out_channels=8,\n",
        "              kernel_size=3, stride=2, padding=1, bias=False),  # bs*4*14*14\n",
        "    EvoNorm2D(8),\n",
        "    #nn.ReLU(),\n",
        "    nn.Conv2d(8, 16, 3, 2, 1, bias=False),  # bs * 8 * 7 * 7\n",
        "    EvoNorm2D(16),\n",
        "    #nn.ReLU(),\n",
        "    nn.Conv2d(16, 32, 3, 2, 1, bias=False),  # bs * 16 * 4 * 4\n",
        "    EvoNorm2D(32),\n",
        "    #nn.ReLU(),\n",
        "    nn.Conv2d(32, 64, 3, 2, 1, bias=False),  # bs * 32 * 2 * 2\n",
        "    EvoNorm2D(64),\n",
        "    #nn.ReLU(),\n",
        "    nn.Conv2d(64, 64, 3, 2, 1, bias=False),  # bs * 64 * 1 * 1\n",
        "    EvoNorm2D(64),\n",
        "    nn.AdaptiveAvgPool2d(1),\n",
        "    Lambda(flatten),\n",
        "    nn.Linear(64, 10)\n",
        ")"
      ],
      "execution_count": 0,
      "outputs": []
    },
    {
      "cell_type": "code",
      "metadata": {
        "id": "c0JUa-ZM4Cku",
        "colab_type": "code",
        "colab": {
          "base_uri": "https://localhost:8080/",
          "height": 104
        },
        "outputId": "cbd4844e-f6bc-4fd3-c514-c7e743de58a7"
      },
      "source": [
        "opt = SGD(model.parameters(), lr)\n",
        "for epoch in range(EPOCHS):\n",
        "    model.train()\n",
        "    for xb, yb in train_dl:\n",
        "        loss = loss_func(model.cuda()(xb.cuda()), yb.cuda())\n",
        "        loss.backward()\n",
        "        opt.step()\n",
        "        opt.zero_grad()\n",
        "\n",
        "    model.eval()\n",
        "    with torch.no_grad():\n",
        "        total_loss, total_acc = 0., 0.\n",
        "        for xb, yb in valid_dl:\n",
        "            pred = model(xb.cuda())\n",
        "            total_loss += loss_func(pred, yb.cuda())\n",
        "            total_acc += accuracy(pred, yb.cuda())\n",
        "        n_entries = len(valid_dl)\n",
        "        print('epoch', epoch,\n",
        "              'loss:', (total_loss/n_entries).item(),\n",
        "              'accuracy:', (total_acc/n_entries).item()\n",
        "              )"
      ],
      "execution_count": 16,
      "outputs": [
        {
          "output_type": "stream",
          "text": [
            "epoch 0 loss: 0.10983648151159286 accuracy: 0.9673566818237305\n",
            "epoch 1 loss: 0.06782960891723633 accuracy: 0.981090784072876\n",
            "epoch 2 loss: 0.3812379240989685 accuracy: 0.9166003465652466\n",
            "epoch 3 loss: 0.051979053765535355 accuracy: 0.984175980091095\n",
            "epoch 4 loss: 0.0521659180521965 accuracy: 0.9856687784194946\n"
          ],
          "name": "stdout"
        }
      ]
    },
    {
      "cell_type": "code",
      "metadata": {
        "id": "Ksai5rHN4oIh",
        "colab_type": "code",
        "colab": {}
      },
      "source": [
        ""
      ],
      "execution_count": 0,
      "outputs": []
    }
  ]
}