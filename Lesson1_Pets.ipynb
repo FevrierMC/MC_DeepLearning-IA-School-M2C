{
 "cells": [
  {
   "cell_type": "code",
   "execution_count": 0,
   "metadata": {
    "colab": {},
    "colab_type": "code",
    "id": "OqA4zPKvAq2A"
   },
   "outputs": [],
   "source": [
    "# from google.colab import drive\n",
    "# drive.mount('/content/drive')"
   ]
  },
  {
   "cell_type": "code",
   "execution_count": 0,
   "metadata": {
    "colab": {},
    "colab_type": "code",
    "id": "IvlGnf9LBDGq"
   },
   "outputs": [],
   "source": [
    "# !git clone https://github.com/fastai/course-v4 'drive/My Drive/course-v4'"
   ]
  },
  {
   "cell_type": "code",
   "execution_count": 0,
   "metadata": {
    "colab": {},
    "colab_type": "code",
    "id": "7vu2akjMBVaa"
   },
   "outputs": [],
   "source": [
    "!pip install fastai2 > ../dev/null"
   ]
  },
  {
   "cell_type": "code",
   "execution_count": 0,
   "metadata": {
    "colab": {},
    "colab_type": "code",
    "id": "SkwyS3U-Sal0"
   },
   "outputs": [],
   "source": [
    "# note: the \"> ../dev/null\" above just prevents the cell \n",
    "# from outputting all the install verbosity ;)"
   ]
  },
  {
   "cell_type": "markdown",
   "metadata": {
    "colab_type": "text",
    "id": "SIfIswqoKrqS"
   },
   "source": [
    "# Import the vision library"
   ]
  },
  {
   "cell_type": "code",
   "execution_count": 0,
   "metadata": {
    "colab": {},
    "colab_type": "code",
    "id": "2Mq0gBOmKoPT"
   },
   "outputs": [],
   "source": [
    "from fastai2.______.all import *  #Note: replace the ____ here"
   ]
  },
  {
   "cell_type": "markdown",
   "metadata": {
    "colab_type": "text",
    "id": "XVQCeRnLFgGX"
   },
   "source": [
    "# Find the Dogs vs Cats DataSet\n",
    "In Fastai, the URLs variable contains urls towards various datasets. \n",
    "We'll take advantage of notebooks' capabilities here.\n",
    "\n",
    "In the following cell, type \"URL.\" and wait for a second. \n",
    "\n",
    "You should see different options appearing (starting with \"ADULT_SAMPLE\" and \"AG_NEWS\"...)\n",
    "\n",
    "<br /> \n",
    "\n",
    "<b> IMPORTANT NOTE: if you are using a regular Jupyter Notebook instead of Colab, do \"URL.\" and press tab to see the options appearing ;) </b>"
   ]
  },
  {
   "cell_type": "code",
   "execution_count": 0,
   "metadata": {
    "colab": {
     "base_uri": "https://localhost:8080/",
     "height": 35
    },
    "colab_type": "code",
    "executionInfo": {
     "elapsed": 1024,
     "status": "ok",
     "timestamp": 1584978352702,
     "user": {
      "displayName": "Benjamin Dubreu",
      "photoUrl": "",
      "userId": "16222355890821715977"
     },
     "user_tz": -60
    },
    "id": "P4RMbb8GDRYV",
    "outputId": "3c44a77d-e9ab-4841-e18d-afeb2752ef48"
   },
   "outputs": [
    {
     "data": {
      "text/plain": [
       "'http://files.fast.ai/data/examples/dogscats.tgz'"
      ]
     },
     "execution_count": 10,
     "metadata": {
      "tags": []
     },
     "output_type": "execute_result"
    }
   ],
   "source": []
  },
  {
   "cell_type": "markdown",
   "metadata": {
    "colab_type": "text",
    "id": "LXZoIEkvGUD4"
   },
   "source": [
    "Click [here](https://course.fast.ai/datasets) to learn what those links contain, and complete the url variable below:"
   ]
  },
  {
   "cell_type": "code",
   "execution_count": 0,
   "metadata": {
    "colab": {},
    "colab_type": "code",
    "id": "JJCx6UQTEW5e"
   },
   "outputs": [],
   "source": [
    "url_pointing_towards_dogsvcats = URLs.____ # Note: replace the ____\n",
    "assert url_pointing_towards_dogsvcats == 'http://files.fast.ai/data/examples/dogscats.tgz'"
   ]
  },
  {
   "cell_type": "markdown",
   "metadata": {
    "colab_type": "text",
    "id": "2CkYtetDQGZN"
   },
   "source": [
    "# Download the data and find where it was downloaded"
   ]
  },
  {
   "cell_type": "markdown",
   "metadata": {
    "colab_type": "text",
    "id": "9KtmN3V4Eqf3"
   },
   "source": [
    "Now we will use the \"untar_data\" function to download the images. \n",
    "\n",
    "But first, let's learn what it does exactly. Again, we'll take advantage of the notebook's capabilities.\n",
    "Type ?untar_data() below and run the cell."
   ]
  },
  {
   "cell_type": "code",
   "execution_count": 0,
   "metadata": {
    "colab": {},
    "colab_type": "code",
    "id": "Et0WZXSsE1Zd"
   },
   "outputs": [],
   "source": [
    "____ # Get the documentation for untar_data()"
   ]
  },
  {
   "cell_type": "code",
   "execution_count": 0,
   "metadata": {
    "colab": {},
    "colab_type": "code",
    "id": "OYhXx84iE6mR"
   },
   "outputs": [],
   "source": [
    "# note; you can also try ??untar_data or help(untar_data) and see what they do differently"
   ]
  },
  {
   "cell_type": "markdown",
   "metadata": {
    "colab_type": "text",
    "id": "Jmn8nfHwE8Od"
   },
   "source": [
    "So, the doc says :\n",
    "\n",
    "\"Download `url` to `fname` if `dest` doesn't exist, and un-tgz to folder `dest`.\"\n",
    "\n",
    "In Jeremy's class example, he provides the url, but neither fname nor dest.\n",
    "\n",
    "So what happens ? Let's find out..."
   ]
  },
  {
   "cell_type": "code",
   "execution_count": 0,
   "metadata": {
    "colab": {},
    "colab_type": "code",
    "id": "ZCFWdtxvZ76l"
   },
   "outputs": [],
   "source": [
    "# if you have problems with the cell below, \n",
    "# here is a linux command to remove broken file\n",
    "# just un-comment the following line:\n",
    "# rm -r -f /root/.fastai/archive/dogscats.tgz"
   ]
  },
  {
   "cell_type": "code",
   "execution_count": 0,
   "metadata": {
    "colab": {},
    "colab_type": "code",
    "id": "2UVfP1msIYzx"
   },
   "outputs": [],
   "source": [
    "# pass the url you defined above to untar_data:\n",
    "\n",
    "path = untar_data(____)  # Replace the ____ \n",
    "assert path.name == 'dogscats'"
   ]
  },
  {
   "cell_type": "code",
   "execution_count": 0,
   "metadata": {
    "colab": {
     "base_uri": "https://localhost:8080/",
     "height": 35
    },
    "colab_type": "code",
    "executionInfo": {
     "elapsed": 1269,
     "status": "ok",
     "timestamp": 1584980111934,
     "user": {
      "displayName": "Benjamin Dubreu",
      "photoUrl": "",
      "userId": "16222355890821715977"
     },
     "user_tz": -60
    },
    "id": "8RsPmROvKI8P",
    "outputId": "206382dc-5635-4b96-e12a-7eb63deb1867"
   },
   "outputs": [
    {
     "name": "stdout",
     "output_type": "stream",
     "text": [
      "/root/.fastai/data/dogscats\n"
     ]
    }
   ],
   "source": [
    "print(path)"
   ]
  },
  {
   "cell_type": "markdown",
   "metadata": {
    "colab_type": "text",
    "id": "2uTzUgRhLIWY"
   },
   "source": [
    "As you can see, since we didn't give any fname or dest to the untar_data function, it chose its own default and store your data in a private directory called .fastai/data"
   ]
  },
  {
   "cell_type": "code",
   "execution_count": 0,
   "metadata": {
    "colab": {
     "base_uri": "https://localhost:8080/",
     "height": 35
    },
    "colab_type": "code",
    "executionInfo": {
     "elapsed": 1246,
     "status": "ok",
     "timestamp": 1584980183896,
     "user": {
      "displayName": "Benjamin Dubreu",
      "photoUrl": "",
      "userId": "16222355890821715977"
     },
     "user_tz": -60
    },
    "id": "doTicmE-LhmG",
    "outputId": "26b488bf-e74c-40f0-ecb8-8a5f03c5c12c"
   },
   "outputs": [
    {
     "data": {
      "text/plain": [
       "pathlib.PosixPath"
      ]
     },
     "execution_count": 49,
     "metadata": {
      "tags": []
     },
     "output_type": "execute_result"
    }
   ],
   "source": [
    "# This is interesting !\n",
    "type(path)"
   ]
  },
  {
   "cell_type": "markdown",
   "metadata": {
    "colab_type": "text",
    "id": "daoSeZIzLkU6"
   },
   "source": [
    "As you can see, \"path\" is not just a string storing the directory where you data was downloaded. It is a PosixPath.\n",
    "\n",
    "PosixPathes have a bunch of fun methods. For example, try this:"
   ]
  },
  {
   "cell_type": "code",
   "execution_count": 0,
   "metadata": {
    "colab": {
     "base_uri": "https://localhost:8080/",
     "height": 55
    },
    "colab_type": "code",
    "executionInfo": {
     "elapsed": 1225,
     "status": "ok",
     "timestamp": 1584980312853,
     "user": {
      "displayName": "Benjamin Dubreu",
      "photoUrl": "",
      "userId": "16222355890821715977"
     },
     "user_tz": -60
    },
    "id": "JOcKYfv-MC98",
    "outputId": "64c56cda-c9df-4bdd-e9f5-be141e5cbc99"
   },
   "outputs": [
    {
     "data": {
      "text/plain": [
       "(#4) [Path('/root/.fastai/data/dogscats/test1'),Path('/root/.fastai/data/dogscats/train'),Path('/root/.fastai/data/dogscats/sample'),Path('/root/.fastai/data/dogscats/valid')]"
      ]
     },
     "execution_count": 50,
     "metadata": {
      "tags": []
     },
     "output_type": "execute_result"
    }
   ],
   "source": [
    "path.ls()"
   ]
  },
  {
   "cell_type": "markdown",
   "metadata": {
    "colab_type": "text",
    "id": "tkne01g-MDt0"
   },
   "source": [
    "So, this url provides us with four folders:\n",
    "\n",
    "- test1\n",
    "- train\n",
    "- valid\n",
    "- sample\n",
    "\n",
    "This is interesting ! The course example created the dataloaders by taking advantage of the fact that the cats images started with an Uppercase letter. \n",
    "\n",
    "This won't always be the case ! What should we do ? Rename all our pictures so that one class starts with uppercase and the other doesn't ??\n",
    "\n",
    "Well, the example we have here has another approach, they store different categories in different folders. Let's see: "
   ]
  },
  {
   "cell_type": "code",
   "execution_count": 0,
   "metadata": {
    "colab": {
     "base_uri": "https://localhost:8080/",
     "height": 55
    },
    "colab_type": "code",
    "executionInfo": {
     "elapsed": 1089,
     "status": "ok",
     "timestamp": 1584980719089,
     "user": {
      "displayName": "Benjamin Dubreu",
      "photoUrl": "",
      "userId": "16222355890821715977"
     },
     "user_tz": -60
    },
    "id": "jwSR6qmFMWy-",
    "outputId": "57640c67-fe2c-4bd8-99d5-d8b9e6e5405e"
   },
   "outputs": [
    {
     "data": {
      "text/plain": [
       "(#2) [Path('/root/.fastai/data/dogscats/train/dogs'),Path('/root/.fastai/data/dogscats/train/cats')]"
      ]
     },
     "execution_count": 54,
     "metadata": {
      "tags": []
     },
     "output_type": "execute_result"
    }
   ],
   "source": [
    "(path/'train').ls()  # Yes, you can add a folder to a PosixPath like so ;)\n",
    "# in the \"train\" folder, there are two other folders: dogs, and cats. \n",
    "# Luckily for us, fastai provides us with an api that deals \n",
    "# With this kind of data splitting"
   ]
  },
  {
   "cell_type": "markdown",
   "metadata": {
    "colab_type": "text",
    "id": "J5-81VT1QRd5"
   },
   "source": [
    "# Create DataLoaders using folders \n",
    "(not the file's name)"
   ]
  },
  {
   "cell_type": "code",
   "execution_count": 0,
   "metadata": {
    "colab": {},
    "colab_type": "code",
    "id": "iE-D3LAuNJSQ"
   },
   "outputs": [],
   "source": [
    "# Again, use the notebooks capabilities to find what you need;\n",
    "# start by typing \"ImageDataLoaders.\" and wait until you get a list of options\n",
    "# can you guess which one you could use ? ;-) \n",
    "ImageDataLoaders."
   ]
  },
  {
   "cell_type": "code",
   "execution_count": 0,
   "metadata": {
    "colab": {},
    "colab_type": "code",
    "id": "w_CB84f0OHH0"
   },
   "outputs": [],
   "source": [
    "# replace this with the method you found above\n",
    "# if you didn't find it (or need a hint), I put as many \"_\" as there are\n",
    "# letters in the method you are looking for\n",
    "dls = ImageDataLoaders.____________(path,\n",
    "                                   item_tfms=Resize(224)) \n",
    "\n",
    "# Don't worry about the Resize() for now, we'll see what this does latter\n",
    "assert isinstance(dls, DataLoaders)"
   ]
  },
  {
   "cell_type": "markdown",
   "metadata": {
    "colab_type": "text",
    "id": "bg3wwDpQP_V_"
   },
   "source": [
    "Congratulations !!!! \n",
    "\n",
    "You created your first dataloaders. Those are cool things where fastai does a lot for you !\n",
    "\n",
    "For example, try the following: \n"
   ]
  },
  {
   "cell_type": "code",
   "execution_count": 0,
   "metadata": {
    "colab": {},
    "colab_type": "code",
    "id": "__io8UStOMte"
   },
   "outputs": [],
   "source": [
    "# dls.show_batch()  # Un-comment the cell. Cool, heh ? "
   ]
  },
  {
   "cell_type": "markdown",
   "metadata": {
    "colab_type": "text",
    "id": "qGyt0CgFOSca"
   },
   "source": [
    "# Use our dataloaders to train a deep learning model !\n",
    "The only lines from the course we haven't covered are the following ones:"
   ]
  },
  {
   "cell_type": "code",
   "execution_count": 0,
   "metadata": {
    "colab": {},
    "colab_type": "code",
    "id": "LFVRsffxQ0oJ"
   },
   "outputs": [],
   "source": [
    "# learn = cnn_learner(dls, resnet34, metrics=error_rate)\n",
    "# learn.fine_tune(1)"
   ]
  },
  {
   "cell_type": "markdown",
   "metadata": {
    "colab_type": "text",
    "id": "6pOraS_FREMy"
   },
   "source": [
    "Can you guess what you need to change in our case ?\n",
    "That's right, <b>absolutely nothing !!</b>\n",
    "You'll find that most of the time, pipeline-ing your data into dataloaders is\n",
    "the hardest part (at least that's the way I see it). Once this is done, it's a \n",
    "matter of creating your learner, and train it.\n",
    "\n"
   ]
  },
  {
   "cell_type": "code",
   "execution_count": 0,
   "metadata": {
    "colab": {},
    "colab_type": "code",
    "id": "-Wgwa7HNRdxA"
   },
   "outputs": [],
   "source": [
    "# You'll learn more about learners and training in the future. \n",
    "# For now, just type the first line of code of the cell above here:\n",
    "# (yes, type it! Don't copy paste. You are here to practice ;) )\n",
    "learn = \n",
    "assert isinstance(learn, Learner)"
   ]
  },
  {
   "cell_type": "code",
   "execution_count": 0,
   "metadata": {
    "colab": {
     "base_uri": "https://localhost:8080/",
     "height": 172
    },
    "colab_type": "code",
    "executionInfo": {
     "elapsed": 343331,
     "status": "ok",
     "timestamp": 1584982254212,
     "user": {
      "displayName": "Benjamin Dubreu",
      "photoUrl": "",
      "userId": "16222355890821715977"
     },
     "user_tz": -60
    },
    "id": "Jj4H3t2AR34n",
    "outputId": "99b91656-31c4-4cc6-a493-5dac85b0dd6c"
   },
   "outputs": [
    {
     "data": {
      "text/html": [
       "<table border=\"1\" class=\"dataframe\">\n",
       "  <thead>\n",
       "    <tr style=\"text-align: left;\">\n",
       "      <th>epoch</th>\n",
       "      <th>train_loss</th>\n",
       "      <th>valid_loss</th>\n",
       "      <th>error_rate</th>\n",
       "      <th>time</th>\n",
       "    </tr>\n",
       "  </thead>\n",
       "  <tbody>\n",
       "    <tr>\n",
       "      <td>0</td>\n",
       "      <td>0.086335</td>\n",
       "      <td>0.040765</td>\n",
       "      <td>0.017430</td>\n",
       "      <td>01:50</td>\n",
       "    </tr>\n",
       "  </tbody>\n",
       "</table>"
      ],
      "text/plain": [
       "<IPython.core.display.HTML object>"
      ]
     },
     "metadata": {
      "tags": []
     },
     "output_type": "display_data"
    },
    {
     "data": {
      "text/html": [
       "<table border=\"1\" class=\"dataframe\">\n",
       "  <thead>\n",
       "    <tr style=\"text-align: left;\">\n",
       "      <th>epoch</th>\n",
       "      <th>train_loss</th>\n",
       "      <th>valid_loss</th>\n",
       "      <th>error_rate</th>\n",
       "      <th>time</th>\n",
       "    </tr>\n",
       "  </thead>\n",
       "  <tbody>\n",
       "    <tr>\n",
       "      <td>0</td>\n",
       "      <td>0.047416</td>\n",
       "      <td>0.041508</td>\n",
       "      <td>0.015438</td>\n",
       "      <td>01:57</td>\n",
       "    </tr>\n",
       "    <tr>\n",
       "      <td>1</td>\n",
       "      <td>0.020179</td>\n",
       "      <td>0.027081</td>\n",
       "      <td>0.007470</td>\n",
       "      <td>01:55</td>\n",
       "    </tr>\n",
       "  </tbody>\n",
       "</table>"
      ],
      "text/plain": [
       "<IPython.core.display.HTML object>"
      ]
     },
     "metadata": {
      "tags": []
     },
     "output_type": "display_data"
    }
   ],
   "source": [
    "# Now, type the second line above and train your model:\n"
   ]
  },
  {
   "cell_type": "code",
   "execution_count": 0,
   "metadata": {
    "colab": {},
    "colab_type": "code",
    "id": "spMQPCm-SKT4"
   },
   "outputs": [],
   "source": [
    "# Now, you should start gaining the habit of using \"object.\" in a colab cell\n",
    "# and waiting to see your options. \n",
    "\n",
    "# If you do that with your \"learn\" object ('learn.' and wait..), you should find\n",
    "# a method to show the results of the model. Try it !\n",
    "\n",
    "learn\n",
    "\n",
    "# if you didn't find it, hint: learn.____________()"
   ]
  },
  {
   "cell_type": "markdown",
   "metadata": {
    "colab_type": "text",
    "id": "cczT1SCcTqnS"
   },
   "source": [
    "# Recap\n",
    "\n",
    "you just trained a model that differentiates between cats and dogs. Can you do it again with less help ? "
   ]
  },
  {
   "cell_type": "markdown",
   "metadata": {
    "colab_type": "text",
    "id": "P8S22OjGUZOz"
   },
   "source": [
    "## Find the url:"
   ]
  },
  {
   "cell_type": "code",
   "execution_count": 0,
   "metadata": {
    "colab": {},
    "colab_type": "code",
    "id": "ilmWVvBuUjMo"
   },
   "outputs": [],
   "source": []
  },
  {
   "cell_type": "markdown",
   "metadata": {
    "colab_type": "text",
    "id": "OqUwWS7IUlIy"
   },
   "source": [
    "## Untar it:"
   ]
  },
  {
   "cell_type": "code",
   "execution_count": 0,
   "metadata": {
    "colab": {},
    "colab_type": "code",
    "id": "zuoIPTifUroH"
   },
   "outputs": [],
   "source": []
  },
  {
   "cell_type": "markdown",
   "metadata": {
    "colab_type": "text",
    "id": "Gs8Q2RudUnNT"
   },
   "source": [
    "##Create dataloaders:"
   ]
  },
  {
   "cell_type": "code",
   "execution_count": 0,
   "metadata": {
    "colab": {},
    "colab_type": "code",
    "id": "sv2nfMkGUvdx"
   },
   "outputs": [],
   "source": []
  },
  {
   "cell_type": "markdown",
   "metadata": {
    "colab_type": "text",
    "id": "Uk0_S_RSU05a"
   },
   "source": [
    "## Create the Model"
   ]
  },
  {
   "cell_type": "code",
   "execution_count": 0,
   "metadata": {
    "colab": {},
    "colab_type": "code",
    "id": "FjnakASQU2Ze"
   },
   "outputs": [],
   "source": []
  },
  {
   "cell_type": "markdown",
   "metadata": {
    "colab_type": "text",
    "id": "Fspg-we8a96Q"
   },
   "source": [
    "## Train the model "
   ]
  },
  {
   "cell_type": "code",
   "execution_count": 0,
   "metadata": {
    "colab": {},
    "colab_type": "code",
    "id": "iUaalwLQa1Fa"
   },
   "outputs": [],
   "source": []
  },
  {
   "cell_type": "markdown",
   "metadata": {
    "colab_type": "text",
    "id": "xCmCB5Z5U6HL"
   },
   "source": [
    "## See results !"
   ]
  },
  {
   "cell_type": "code",
   "execution_count": 0,
   "metadata": {
    "colab": {},
    "colab_type": "code",
    "id": "WpOUOG0EU9R_"
   },
   "outputs": [],
   "source": []
  },
  {
   "cell_type": "markdown",
   "metadata": {
    "colab_type": "text",
    "id": "sVO8Q_8IU-eH"
   },
   "source": [
    "Now, wouldn't you like to put that model online to impress your family and friends ? We'll that's coming with next week's lesson. Stay tuned ;) "
   ]
  },
  {
   "cell_type": "code",
   "execution_count": 0,
   "metadata": {
    "colab": {},
    "colab_type": "code",
    "id": "L-Uf3vdKVIWI"
   },
   "outputs": [],
   "source": []
  }
 ],
 "metadata": {
  "accelerator": "GPU",
  "colab": {
   "authorship_tag": "ABX9TyNap+5a6f5TeK+rA+/GvBSH",
   "collapsed_sections": [],
   "name": "FastPractice_Lesson1_Pets.ipynb",
   "provenance": []
  },
  "kernelspec": {
   "display_name": "Python 3",
   "language": "python",
   "name": "python3"
  },
  "language_info": {
   "codemirror_mode": {
    "name": "ipython",
    "version": 3
   },
   "file_extension": ".py",
   "mimetype": "text/x-python",
   "name": "python",
   "nbconvert_exporter": "python",
   "pygments_lexer": "ipython3",
   "version": "3.7.4"
  }
 },
 "nbformat": 4,
 "nbformat_minor": 1
}
