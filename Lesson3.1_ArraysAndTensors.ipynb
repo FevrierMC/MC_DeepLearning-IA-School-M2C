{
 "cells": [
  {
   "cell_type": "code",
   "execution_count": 1,
   "metadata": {
    "colab": {},
    "colab_type": "code",
    "id": "O7LNfE2JvUUk"
   },
   "outputs": [],
   "source": [
    "!pip install fastai2 > ../dev/null\n",
    "!pip install utils > ../dev/null  "
   ]
  },
  {
   "cell_type": "code",
   "execution_count": 2,
   "metadata": {
    "colab": {},
    "colab_type": "code",
    "id": "IIeStxKcvV75"
   },
   "outputs": [],
   "source": [
    "from utils import *\n",
    "from fastai2.vision.widgets import *\n",
    "from fastai2.vision.all import *"
   ]
  },
  {
   "cell_type": "markdown",
   "metadata": {
    "colab_type": "text",
    "id": "qw5DYp4-tjed"
   },
   "source": [
    "# Lesson 3: Numpy/pytorch, indexing, and broadcasting"
   ]
  },
  {
   "cell_type": "markdown",
   "metadata": {
    "colab_type": "text",
    "id": "P9NLUOaDtwvX"
   },
   "source": [
    "In this class, Jeremy showed us how to build a web app using ipywidgets, Binder and Voilà (and a bunch of other amazing services). Those are not tasks for which I can provide you exercises that stand in a notebook. \n",
    "\n",
    "So you should follow the great documentations existing out there are try to go live with your MenVsWomen model, for example."
   ]
  },
  {
   "cell_type": "markdown",
   "metadata": {
    "colab_type": "text",
    "id": "mMxY6erEuhu7"
   },
   "source": [
    "But in the lesson, Jeremy also quickly went through a lot of fundamental concepts of pytorch. In fact he covered so many things so quickly that he decided to shorten the lesson to let you digest all that.\n",
    "\n",
    "This is the stuff we will be reviewing together."
   ]
  },
  {
   "cell_type": "markdown",
   "metadata": {
    "colab_type": "text",
    "id": "wyYTuarvL3IO"
   },
   "source": [
    "WARNING: this is stuff that you probably don't need if you are just following FAST.AI to acquire general knowledge of how things work. This is more for future practitionners/researchers ;) "
   ]
  },
  {
   "cell_type": "markdown",
   "metadata": {
    "colab_type": "text",
    "id": "llXajnzwvAXJ"
   },
   "source": [
    "# Numpy and Pytorch\n",
    "Numpy and Pytorch are pretty similar in how they behave. We'll first learn a few cools tricks with Numpy, and you'll see that you can transfer most of them to pytorch ;)"
   ]
  },
  {
   "cell_type": "markdown",
   "metadata": {
    "colab_type": "text",
    "id": "JVMGMKy_VGI5"
   },
   "source": [
    "## Indexing"
   ]
  },
  {
   "cell_type": "code",
   "execution_count": 3,
   "metadata": {
    "colab": {
     "base_uri": "https://localhost:8080/",
     "height": 34
    },
    "colab_type": "code",
    "executionInfo": {
     "elapsed": 834,
     "status": "ok",
     "timestamp": 1585832584874,
     "user": {
      "displayName": "Benjamin Dubreu",
      "photoUrl": "",
      "userId": "16222355890821715977"
     },
     "user_tz": -120
    },
    "id": "jG7AwIVHvFDp",
    "outputId": "b3fefbc9-c097-4954-e83f-b278396fd9eb"
   },
   "outputs": [
    {
     "data": {
      "text/plain": [
       "[1, 2, 3, 4, 5]"
      ]
     },
     "execution_count": 3,
     "metadata": {
      "tags": []
     },
     "output_type": "execute_result"
    }
   ],
   "source": [
    "# Let's say we have a list of numbers:\n",
    "my_list = [1, 2, 3, 4, 5]\n",
    "my_list"
   ]
  },
  {
   "cell_type": "code",
   "execution_count": 4,
   "metadata": {
    "colab": {
     "base_uri": "https://localhost:8080/",
     "height": 52
    },
    "colab_type": "code",
    "executionInfo": {
     "elapsed": 425,
     "status": "ok",
     "timestamp": 1585832585822,
     "user": {
      "displayName": "Benjamin Dubreu",
      "photoUrl": "",
      "userId": "16222355890821715977"
     },
     "user_tz": -120
    },
    "id": "44sq9qFa1U7P",
    "outputId": "768de573-995e-4986-af2c-f8304c0f307d"
   },
   "outputs": [
    {
     "name": "stdout",
     "output_type": "stream",
     "text": [
      "passing O, 5 didn't work\n",
      "passing [O, 5] didn't work\n"
     ]
    }
   ],
   "source": [
    "# And let's say you wanted to grab the first and last element of that list \n",
    "try:\n",
    "    print(my_list[0, 5])\n",
    "except:\n",
    "    print(\"passing O, 5 didn't work\")\n",
    "\n",
    "try:\n",
    "    print(my_list[[0, 5]])\n",
    "except:\n",
    "    print(\"passing [O, 5] didn't work\")\n",
    "\n",
    "\n",
    "# Note: if you don't know how try works, well, that pretty much does what its name\n",
    "# says: it tries to do something, and if that doesn't work, it does the \"except\""
   ]
  },
  {
   "cell_type": "code",
   "execution_count": 0,
   "metadata": {
    "colab": {},
    "colab_type": "code",
    "id": "zXwDUHmN1s7E"
   },
   "outputs": [],
   "source": [
    "# your turn: try to figure out a way to get the first and last element of that list\n",
    "\n",
    "\n",
    "\n",
    "# Not easy right ?"
   ]
  },
  {
   "cell_type": "code",
   "execution_count": 6,
   "metadata": {
    "colab": {
     "base_uri": "https://localhost:8080/",
     "height": 34
    },
    "colab_type": "code",
    "executionInfo": {
     "elapsed": 764,
     "status": "ok",
     "timestamp": 1585832588279,
     "user": {
      "displayName": "Benjamin Dubreu",
      "photoUrl": "",
      "userId": "16222355890821715977"
     },
     "user_tz": -120
    },
    "id": "xS3s21ID13wg",
    "outputId": "4a2c0d25-80ff-4a78-b9e6-5da899cac38f"
   },
   "outputs": [
    {
     "name": "stdout",
     "output_type": "stream",
     "text": [
      "[1 5]\n"
     ]
    }
   ],
   "source": [
    "# With numpy, you can do that kind of \"indexing\" very easily:\n",
    "my_array = array(my_list)\n",
    "\n",
    "# Try the two approaches I tried with the list above to see which one works ;)\n",
    "print(my_array[      ])  # Fill in the blank"
   ]
  },
  {
   "cell_type": "code",
   "execution_count": 10,
   "metadata": {
    "colab": {
     "base_uri": "https://localhost:8080/",
     "height": 69
    },
    "colab_type": "code",
    "executionInfo": {
     "elapsed": 528,
     "status": "ok",
     "timestamp": 1585832616986,
     "user": {
      "displayName": "Benjamin Dubreu",
      "photoUrl": "",
      "userId": "16222355890821715977"
     },
     "user_tz": -120
    },
    "id": "CUNjku_M0NLF",
    "outputId": "f55ebc56-7862-44af-eb50-a2b421b90eb7"
   },
   "outputs": [
    {
     "name": "stdout",
     "output_type": "stream",
     "text": [
      "15\n",
      "3.0\n",
      "1.4142135623730951\n"
     ]
    }
   ],
   "source": [
    "# Numpy arrays also come with cool methods that python lists don't have:\n",
    "print(my_array.sum())\n",
    "print(my_array.mean())\n",
    "print(my_array.std())"
   ]
  },
  {
   "cell_type": "markdown",
   "metadata": {
    "colab_type": "text",
    "id": "YqVUZh63AEao"
   },
   "source": [
    "### Interlude -  compare two classes:\n",
    "Compare two groups of students:"
   ]
  },
  {
   "cell_type": "code",
   "execution_count": 0,
   "metadata": {
    "colab": {},
    "colab_type": "code",
    "id": "hOhYJTuXAQBN"
   },
   "outputs": [],
   "source": [
    "group_a_grades = array([10, 10, 10, 10, 11, 11, 11, 11, 9, 9, 9, 9])\n",
    "group_b_grades = array([0, 5, 5, 5, 10, 10, 10, 10, 15, 15, 15, 20])\n",
    "\n",
    "# What's the average grade of group_a :\n",
    "group_a_mean = group_a_grades.____()\n",
    "assert group_a_mean == 10"
   ]
  },
  {
   "cell_type": "code",
   "execution_count": 0,
   "metadata": {
    "colab": {},
    "colab_type": "code",
    "id": "Lkk3KmxdjJkd"
   },
   "outputs": [],
   "source": [
    "# And what's the average grade of group_b ?\n",
    "group_b_mean = __________________\n",
    "assert group_b_mean == 10"
   ]
  },
  {
   "cell_type": "markdown",
   "metadata": {
    "colab_type": "text",
    "id": "zAq4wy0ujSnF"
   },
   "source": [
    "These two groups of students have the same average grades, so they must be similar right ?"
   ]
  },
  {
   "cell_type": "code",
   "execution_count": 0,
   "metadata": {
    "colab": {
     "base_uri": "https://localhost:8080/",
     "height": 34
    },
    "colab_type": "code",
    "executionInfo": {
     "elapsed": 832,
     "status": "ok",
     "timestamp": 1585825356958,
     "user": {
      "displayName": "Benjamin Dubreu",
      "photoUrl": "",
      "userId": "16222355890821715977"
     },
     "user_tz": -120
    },
    "id": "mMohhtt8Cl0L",
    "outputId": "9ee7ad36-0056-4247-bbed-d897c094d7aa"
   },
   "outputs": [
    {
     "name": "stdout",
     "output_type": "stream",
     "text": [
      "0.816496580927726 5.400617248673217\n"
     ]
    }
   ],
   "source": [
    "# Let's see, what's the standard deviations of their grades ? \n",
    "group_a_std = group_a_grades.___()\n",
    "assert abs(group_a_std - 0.8164) < 0.5\n",
    "group_b_std = ____________________\n",
    "assert abs(group_b_std - 5.4) < 0.5\n",
    "\n",
    "print(group_a_std, group_b_std)\n",
    "\n",
    "# Really not the same groups in the end ;-)\n",
    "# Always check the std: you could have two countries with the same mean wage\n",
    "# and still have one of the two much more unequal than the second\n",
    "\n",
    "# Bonus: what's an image with a standard deviation of all the pixels of 0 ?\n",
    "# ______________    # check the notebook solution for answer ;) "
   ]
  },
  {
   "cell_type": "markdown",
   "metadata": {
    "colab_type": "text",
    "id": "DAw9df8-D7UE"
   },
   "source": [
    "### Shape\n",
    "Another VERY important method is shape. It will tell you how many axis your array/tensor has:"
   ]
  },
  {
   "cell_type": "code",
   "execution_count": 12,
   "metadata": {
    "colab": {
     "base_uri": "https://localhost:8080/",
     "height": 121
    },
    "colab_type": "code",
    "executionInfo": {
     "elapsed": 783,
     "status": "ok",
     "timestamp": 1585832697535,
     "user": {
      "displayName": "Benjamin Dubreu",
      "photoUrl": "",
      "userId": "16222355890821715977"
     },
     "user_tz": -120
    },
    "id": "SaptPmiF92qt",
    "outputId": "71d36bfb-179a-4241-9b6e-141a2fb49dc0"
   },
   "outputs": [
    {
     "name": "stdout",
     "output_type": "stream",
     "text": [
      "(1,)\n",
      "Compare this: \n",
      "(2,)\n",
      "To this: \n",
      "(1, 2) : 1 row, two columns\n",
      "Can you see the difference that adding an extra pair of brackets make ? \n"
     ]
    }
   ],
   "source": [
    "my_scalar = array([1])\n",
    "print(my_scalar.shape)\n",
    "\n",
    "print(\"Compare this: \")\n",
    "my_vector = array([1, 2])\n",
    "print(my_vector.shape)\n",
    "\n",
    "print(\"To this: \")\n",
    "my_vector = array([[1, 2]])\n",
    "print(my_vector.shape, ': 1 row, two columns')\n",
    "print(\"Can you see the difference that adding an extra pair of brackets make ? \")"
   ]
  },
  {
   "cell_type": "code",
   "execution_count": 0,
   "metadata": {
    "colab": {
     "base_uri": "https://localhost:8080/",
     "height": 69
    },
    "colab_type": "code",
    "executionInfo": {
     "elapsed": 1066,
     "status": "ok",
     "timestamp": 1585825761416,
     "user": {
      "displayName": "Benjamin Dubreu",
      "photoUrl": "",
      "userId": "16222355890821715977"
     },
     "user_tz": -120
    },
    "id": "9qMsQTg8-my7",
    "outputId": "198fc90e-79bc-403a-ee6a-40a99d5a7b3e"
   },
   "outputs": [
    {
     "name": "stdout",
     "output_type": "stream",
     "text": [
      "[[1 2 3]\n",
      " [4 5 5]]\n",
      "(2, 3) : 2 rows, 3columns\n"
     ]
    }
   ],
   "source": [
    "my_matrix = array([ [1, 2, 3], [4, 5, 5]])\n",
    "print(my_matrix)\n",
    "print(my_matrix______, ': _ rows, _ columns')  # Complete this line"
   ]
  },
  {
   "cell_type": "markdown",
   "metadata": {
    "colab_type": "text",
    "id": "Hy_7Z3BeEugU"
   },
   "source": [
    "## Bigger arrays"
   ]
  },
  {
   "cell_type": "code",
   "execution_count": 13,
   "metadata": {
    "colab": {
     "base_uri": "https://localhost:8080/",
     "height": 69
    },
    "colab_type": "code",
    "executionInfo": {
     "elapsed": 452,
     "status": "ok",
     "timestamp": 1585832731550,
     "user": {
      "displayName": "Benjamin Dubreu",
      "photoUrl": "",
      "userId": "16222355890821715977"
     },
     "user_tz": -120
    },
    "id": "2nzdsYIhdldp",
    "outputId": "e9719998-776b-4cbb-8102-31fd7cecf67b"
   },
   "outputs": [
    {
     "data": {
      "text/plain": [
       "array([[1, 2, 3],\n",
       "       [4, 5, 6],\n",
       "       [7, 8, 9]])"
      ]
     },
     "execution_count": 13,
     "metadata": {
      "tags": []
     },
     "output_type": "execute_result"
    }
   ],
   "source": [
    "# Things become even more interesting when you have not a list,\n",
    "# but an array of numbers:\n",
    "\n",
    "my_list_of_lists = [[1, 2, 3], \n",
    "                    [4, 5, 6], \n",
    "                    [7, 8, 9]]\n",
    "my_matrix = array(my_list_of_lists)\n",
    "my_matrix"
   ]
  },
  {
   "cell_type": "code",
   "execution_count": 0,
   "metadata": {
    "colab": {},
    "colab_type": "code",
    "id": "RYcyVTNIeACc"
   },
   "outputs": [],
   "source": [
    "# Let's say you only care about the third row; using what you've learned above\n",
    "# and in the course, figure out a way to get the 3rd row by indexing into my_array:\n",
    "\n",
    "test =  my_matrix[_____] # be careful, python's indexing starts at 0 ;-)\n",
    "assert (test == [7, 8, 9]).all()"
   ]
  },
  {
   "cell_type": "code",
   "execution_count": 0,
   "metadata": {
    "colab": {},
    "colab_type": "code",
    "id": "UgJxQSiJegq6"
   },
   "outputs": [],
   "source": [
    "# Now, you want the third row, second and third column (8 and 9):\n",
    "\n",
    "test = my_matrix[______]\n",
    "assert (test == [8, 9]).all()"
   ]
  },
  {
   "cell_type": "code",
   "execution_count": 0,
   "metadata": {
    "colab": {},
    "colab_type": "code",
    "id": "26ysMp96fGkJ"
   },
   "outputs": [],
   "source": [
    "# now, you want the top-left square (1,2; 4,5):\n",
    "\n",
    "test = my_matrix[________]\n",
    "assert (test == [[1, 2], [4, 5]]).all()"
   ]
  },
  {
   "cell_type": "code",
   "execution_count": 0,
   "metadata": {
    "colab": {},
    "colab_type": "code",
    "id": "Z4oag_XAevNS"
   },
   "outputs": [],
   "source": [
    "# You might not see why practicing this is important...\n",
    "# but trust me, it will pay off down the road ;-)"
   ]
  },
  {
   "cell_type": "markdown",
   "metadata": {
    "colab_type": "text",
    "id": "o69MvWvF0M4c"
   },
   "source": [
    "## Broadcasting"
   ]
  },
  {
   "cell_type": "code",
   "execution_count": 0,
   "metadata": {
    "colab": {
     "base_uri": "https://localhost:8080/",
     "height": 52
    },
    "colab_type": "code",
    "executionInfo": {
     "elapsed": 1030,
     "status": "ok",
     "timestamp": 1585825971315,
     "user": {
      "displayName": "Benjamin Dubreu",
      "photoUrl": "",
      "userId": "16222355890821715977"
     },
     "user_tz": -120
    },
    "id": "htX0HjCi0Muu",
    "outputId": "ce8e2186-cc6c-492c-baaa-b280baa64ef2"
   },
   "outputs": [
    {
     "name": "stdout",
     "output_type": "stream",
     "text": [
      "[2 4 6]\n",
      "[2 4 6]\n"
     ]
    }
   ],
   "source": [
    "# Another cool (and very powerful) trick is broadcasting.\n",
    "# As seen in the course, you can replace\n",
    "\n",
    "my_array = array([1, 2, 3])\n",
    "print(my_array * array([2, 2, 2]))\n",
    "\n",
    "#by:\n",
    "print(my_array * 2)"
   ]
  },
  {
   "cell_type": "code",
   "execution_count": 0,
   "metadata": {
    "colab": {},
    "colab_type": "code",
    "id": "nihWNIDtgQzg"
   },
   "outputs": [],
   "source": [
    "# Let's re-use my_matrix; try to multiply every number in it by 3:\n",
    "test = my_matrix _ _ \n",
    "\n",
    "answer = array([[3, 6, 9],\n",
    " [12, 15, 18],\n",
    " [21, 24, 27]])\n",
    "assert (test == answer).all()"
   ]
  },
  {
   "cell_type": "code",
   "execution_count": 0,
   "metadata": {
    "colab": {},
    "colab_type": "code",
    "id": "-Z_gefpSjrwO"
   },
   "outputs": [],
   "source": [
    "# Jargon note: you'll oftentimes encounter the word \"scalar\". It just means \"a single number\"\n",
    "# So far, we've done operations on a matrix using only one number (a.k.a a \"scalar\")\n",
    "# What if we wanted to multiply only the third column by 3 ?\n",
    "# We could pass a vector of three numbers: 1, 1, and 3. Let's try:\n",
    "\n",
    "test = my_matrix * ________ \n",
    "\n",
    "answer = array([[ 1,  2,  9],\n",
    "       [ 4,  5, 18],\n",
    "       [ 7,  8, 27]])\n",
    "\n",
    "assert (test == answer).all()"
   ]
  },
  {
   "cell_type": "code",
   "execution_count": 0,
   "metadata": {
    "colab": {},
    "colab_type": "code",
    "id": "jXiXOgWwjrW4"
   },
   "outputs": [],
   "source": [
    "# Harder stuff: now, try to multiply only the third column by 3: \n",
    "# If you don't know where to start, I provide a hint in the cell below\n",
    "\n",
    "\n",
    "test = my_matrix * array(_______________)\n",
    "\n",
    "answer = array([[ 1,  2,  3],\n",
    "       [ 4,  5,  6],\n",
    "       [21, 24, 27]])\n",
    "\n",
    "assert (test == answer).all()"
   ]
  },
  {
   "cell_type": "code",
   "execution_count": 14,
   "metadata": {
    "colab": {
     "base_uri": "https://localhost:8080/",
     "height": 34
    },
    "colab_type": "code",
    "executionInfo": {
     "elapsed": 670,
     "status": "ok",
     "timestamp": 1585832829532,
     "user": {
      "displayName": "Benjamin Dubreu",
      "photoUrl": "",
      "userId": "16222355890821715977"
     },
     "user_tz": -120
    },
    "id": "RHnld7p6jqw-",
    "outputId": "0a0c88cf-35b4-454a-ec06-0c6419a62cc7"
   },
   "outputs": [
    {
     "name": "stdout",
     "output_type": "stream",
     "text": [
      "[1, 1, 3]\n"
     ]
    }
   ],
   "source": [
    "# Hint: if you construct your array like this, it prints as a line\n",
    "my_array = array([1, 1, 3])\n",
    "print(my_array)"
   ]
  },
  {
   "cell_type": "code",
   "execution_count": 15,
   "metadata": {
    "colab": {
     "base_uri": "https://localhost:8080/",
     "height": 69
    },
    "colab_type": "code",
    "executionInfo": {
     "elapsed": 704,
     "status": "ok",
     "timestamp": 1585832868241,
     "user": {
      "displayName": "Benjamin Dubreu",
      "photoUrl": "",
      "userId": "16222355890821715977"
     },
     "user_tz": -120
    },
    "id": "gJiXJIeIuMF0",
    "outputId": "7541bdbb-c01f-4a3b-db3d-514695c739a6"
   },
   "outputs": [
    {
     "data": {
      "text/plain": [
       "array([[1],\n",
       "       [1],\n",
       "       [3]])"
      ]
     },
     "execution_count": 15,
     "metadata": {
      "tags": []
     },
     "output_type": "execute_result"
    }
   ],
   "source": [
    "# How would could you make it display as a column like so ? \n",
    "# If you figure this out, you should be able to answer the question above ;)"
   ]
  },
  {
   "cell_type": "code",
   "execution_count": 0,
   "metadata": {
    "colab": {},
    "colab_type": "code",
    "id": "hoBaN_lTEZtL"
   },
   "outputs": [],
   "source": []
  },
  {
   "cell_type": "code",
   "execution_count": 0,
   "metadata": {
    "colab": {},
    "colab_type": "code",
    "id": "0ZAvmy8MEZqe"
   },
   "outputs": [],
   "source": []
  },
  {
   "cell_type": "code",
   "execution_count": 0,
   "metadata": {
    "colab": {},
    "colab_type": "code",
    "id": "XgBgA-hWEZjs"
   },
   "outputs": [],
   "source": []
  },
  {
   "cell_type": "code",
   "execution_count": 0,
   "metadata": {
    "colab": {
     "base_uri": "https://localhost:8080/",
     "height": 69
    },
    "colab_type": "code",
    "executionInfo": {
     "elapsed": 872,
     "status": "ok",
     "timestamp": 1585826149239,
     "user": {
      "displayName": "Benjamin Dubreu",
      "photoUrl": "",
      "userId": "16222355890821715977"
     },
     "user_tz": -120
    },
    "id": "Ca1hlbPr9UXt",
    "outputId": "33c19d97-a175-4b81-a79e-d37173728ea1"
   },
   "outputs": [
    {
     "data": {
      "text/plain": [
       "array([[1],\n",
       "       [1],\n",
       "       [3]])"
      ]
     },
     "execution_count": 152,
     "metadata": {
      "tags": []
     },
     "output_type": "execute_result"
    }
   ],
   "source": [
    "# Now that you've figured it out, I'll teach you a good trick to do that more easily :\n",
    "my_array = array([1, 1, 3])\n",
    "my_array[:, None]\n",
    "\n",
    "# Note: this is a pretty advanced trick that most numpy/pytorch users don't know\n",
    "# The None adds an extra axis to your tensor/array where you put it in your indexing "
   ]
  },
  {
   "cell_type": "markdown",
   "metadata": {
    "colab_type": "text",
    "id": "_Ll9PxpkFpEM"
   },
   "source": [
    "### The transpose method\n",
    "Transpose takes a matrix and pivots it on it's diagonal axis. For lack of a better description, let's see an example: "
   ]
  },
  {
   "cell_type": "code",
   "execution_count": 16,
   "metadata": {
    "colab": {
     "base_uri": "https://localhost:8080/",
     "height": 52
    },
    "colab_type": "code",
    "executionInfo": {
     "elapsed": 533,
     "status": "ok",
     "timestamp": 1585832960737,
     "user": {
      "displayName": "Benjamin Dubreu",
      "photoUrl": "",
      "userId": "16222355890821715977"
     },
     "user_tz": -120
    },
    "id": "xxCnOpCpFbbD",
    "outputId": "7bb5601a-c277-4c97-8f38-95b7a23a6939"
   },
   "outputs": [
    {
     "data": {
      "text/plain": [
       "array([[1, 2, 3],\n",
       "       [4, 5, 5]])"
      ]
     },
     "execution_count": 16,
     "metadata": {
      "tags": []
     },
     "output_type": "execute_result"
    }
   ],
   "source": [
    "my_matrix = array([[1, 2, 3],\n",
    "       [4, 5, 5]])\n",
    "\n",
    "my_matrix"
   ]
  },
  {
   "cell_type": "code",
   "execution_count": 17,
   "metadata": {
    "colab": {
     "base_uri": "https://localhost:8080/",
     "height": 69
    },
    "colab_type": "code",
    "executionInfo": {
     "elapsed": 688,
     "status": "ok",
     "timestamp": 1585832961982,
     "user": {
      "displayName": "Benjamin Dubreu",
      "photoUrl": "",
      "userId": "16222355890821715977"
     },
     "user_tz": -120
    },
    "id": "VIbybxt0FuxX",
    "outputId": "7b44048a-5f03-4d4d-d23d-5de9be77f196"
   },
   "outputs": [
    {
     "data": {
      "text/plain": [
       "array([[1, 4],\n",
       "       [2, 5],\n",
       "       [3, 5]])"
      ]
     },
     "execution_count": 17,
     "metadata": {
      "tags": []
     },
     "output_type": "execute_result"
    }
   ],
   "source": [
    "my_matrix.T"
   ]
  },
  {
   "cell_type": "markdown",
   "metadata": {
    "colab_type": "text",
    "id": "ksy1RTKkFxJm"
   },
   "source": [
    "In other words, rows become columns, and vice versa"
   ]
  },
  {
   "cell_type": "code",
   "execution_count": 0,
   "metadata": {
    "colab": {
     "base_uri": "https://localhost:8080/",
     "height": 69
    },
    "colab_type": "code",
    "executionInfo": {
     "elapsed": 952,
     "status": "ok",
     "timestamp": 1585826278880,
     "user": {
      "displayName": "Benjamin Dubreu",
      "photoUrl": "",
      "userId": "16222355890821715977"
     },
     "user_tz": -120
    },
    "id": "Xg3kaJHQGIjt",
    "outputId": "1436b8a3-ab34-4cd4-f1bf-d2637c8a28f8"
   },
   "outputs": [
    {
     "name": "stdout",
     "output_type": "stream",
     "text": [
      "[1 1 3]\n",
      "(3,)  just three numbers\n",
      "transposed: [1 1 3]\n"
     ]
    }
   ],
   "source": [
    "# Funky advanced exercise: feel free to skip :-)\n",
    "# my array looks like this: array([1, 1, 3])\n",
    "print(my_array)\n",
    "print(my_array.shape, ' just three numbers')\n",
    "# As such, it just has 3 numbers, no rows and columns\n",
    "# So transposing it won't do much: \n",
    "print('transposed:', my_array.T)"
   ]
  },
  {
   "cell_type": "code",
   "execution_count": 0,
   "metadata": {
    "colab": {},
    "colab_type": "code",
    "id": "G9Zf-52rJP5N"
   },
   "outputs": [],
   "source": [
    "# If, however, you use the technique of indexing with \"None\" that I showed above,\n",
    "# you can make it have one row, three columns\n",
    "# Let's try:\n",
    "test = my_array[_______]\n",
    "assert test.shape == (1, 3)"
   ]
  },
  {
   "cell_type": "code",
   "execution_count": 0,
   "metadata": {
    "colab": {
     "base_uri": "https://localhost:8080/",
     "height": 69
    },
    "colab_type": "code",
    "executionInfo": {
     "elapsed": 899,
     "status": "ok",
     "timestamp": 1585826306732,
     "user": {
      "displayName": "Benjamin Dubreu",
      "photoUrl": "",
      "userId": "16222355890821715977"
     },
     "user_tz": -120
    },
    "id": "ap64kECxnPti",
    "outputId": "e13d2d33-c396-412f-db6b-17ae0705bf07"
   },
   "outputs": [
    {
     "data": {
      "text/plain": [
       "array([[1],\n",
       "       [1],\n",
       "       [3]])"
      ]
     },
     "execution_count": 158,
     "metadata": {
      "tags": []
     },
     "output_type": "execute_result"
    }
   ],
   "source": [
    "# Now try to take the transpose of test: \n",
    "____._\n",
    "# Voilà ;-) "
   ]
  },
  {
   "cell_type": "markdown",
   "metadata": {
    "colab_type": "text",
    "id": "NpnKhZvpI-PU"
   },
   "source": [
    "Note: if you've been working on this notebook without interruption since the beginning of it, now is a good time to take a break to let the material sink in ;-) "
   ]
  },
  {
   "cell_type": "markdown",
   "metadata": {
    "colab_type": "text",
    "id": "6fc7QE9XuMDV"
   },
   "source": [
    "# Matrix-Matrix multiplication "
   ]
  },
  {
   "cell_type": "code",
   "execution_count": 0,
   "metadata": {
    "colab": {},
    "colab_type": "code",
    "id": "EoAhZSDhLRld"
   },
   "outputs": [],
   "source": [
    "# WARNING: this stuff is pretty involved. It's okay if you don't get everything at first\n",
    "# I had to do a lot of exercises to get this stuff right. \n",
    "# But when you'll have it drilled, it will save you plenty of time down the road\n",
    "\n",
    "# Once again, if you are an executive or something and don't need the nitty-gritty details\n",
    "# of how all this works, this is way too much, feel free to skip the notebook ;) "
   ]
  },
  {
   "cell_type": "markdown",
   "metadata": {
    "colab_type": "text",
    "id": "nDUooT4ruL7f"
   },
   "source": [
    "If you never saw matrix-matrix multiplication before or need a refresher, please take a look at <a href=\"http://matrixmultiplication.xyz/\">this link </a>\n",
    "\n",
    "Let's say we want to reproduce the following equation: \n",
    "\n",
    "\\begin{equation}\\left[\\begin{array}{ll}\n",
    "1 & 2 \\\\\n",
    "0 & 1\n",
    "\\end{array}\\right]\\left[\\begin{array}{ll}\n",
    "2 & 5 \\\\\n",
    "6 & 7\n",
    "\\end{array}\\right]=\\left[\\begin{array}{ll}\n",
    "14 & 19 \\\\\n",
    "6 & 7\n",
    "\\end{array}\\right]\\end{equation}\n",
    "\n",
    "\n",
    "------Linear algebra refresher------\n",
    "\n",
    "----First row result----\n",
    "\n",
    "1 * 2 + 2 * 6 = 2 + 12 = 14\n",
    "\n",
    "1 * 5 + 2 * 7 = 5 + 14 = 19\n",
    "\n",
    "----Second row result----\n",
    "\n",
    "0 * 2 + 1 * 6 = 0 + 6 = 6 \n",
    "\n",
    "0 * 5 + 1 * 7 = 0 + 7 = 7\n",
    "\n"
   ]
  },
  {
   "cell_type": "code",
   "execution_count": 18,
   "metadata": {
    "colab": {
     "base_uri": "https://localhost:8080/",
     "height": 52
    },
    "colab_type": "code",
    "executionInfo": {
     "elapsed": 617,
     "status": "ok",
     "timestamp": 1585833031378,
     "user": {
      "displayName": "Benjamin Dubreu",
      "photoUrl": "",
      "userId": "16222355890821715977"
     },
     "user_tz": -120
    },
    "id": "L13oyQ2cxLNJ",
    "outputId": "06263418-1253-424f-bd57-b03331b57c62"
   },
   "outputs": [
    {
     "name": "stdout",
     "output_type": "stream",
     "text": [
      "[[ 2 10]\n",
      " [ 0  7]]\n"
     ]
    }
   ],
   "source": [
    "# How would you do that with broadcasting ? \n",
    "matrix_one = array([[1, 2], [0, 1]])\n",
    "matrix_two = array([[2, 5], [6, 7]])\n",
    "\n",
    "# First, try to use the multiplication sign (the star), in python\n",
    "result = __________ _ __________\n",
    "print(result)\n",
    "\n",
    "# Doesn't look good... this performs element-wise multiplication"
   ]
  },
  {
   "cell_type": "code",
   "execution_count": 0,
   "metadata": {
    "colab": {},
    "colab_type": "code",
    "id": "6-0MATvEzfig"
   },
   "outputs": [],
   "source": [
    "# But now, you know that you can use numpy to multiply a line by a column right ? \n",
    "# How would you, for example, multiply [1 2] by [2 6] to obtain the 14 ? \n",
    "slice_matrix_one = matrix_one[____]  # get the [1 2]\n",
    "slice_matrix_two = matrix_two[____] # get the [2 6]\n",
    "\n",
    "assert (slice_matrix_one == array([1, 2])).all()\n",
    "assert (slice_matrix_two == array([2, 6])).all()"
   ]
  },
  {
   "cell_type": "code",
   "execution_count": 0,
   "metadata": {
    "colab": {
     "base_uri": "https://localhost:8080/",
     "height": 34
    },
    "colab_type": "code",
    "executionInfo": {
     "elapsed": 931,
     "status": "ok",
     "timestamp": 1585826935651,
     "user": {
      "displayName": "Benjamin Dubreu",
      "photoUrl": "",
      "userId": "16222355890821715977"
     },
     "user_tz": -120
    },
    "id": "2NiwQRSZ0G_s",
    "outputId": "9c3a7cd1-9439-40dd-c5b3-8abce3f23d10"
   },
   "outputs": [
    {
     "data": {
      "text/plain": [
       "array([ 2, 12])"
      ]
     },
     "execution_count": 164,
     "metadata": {
      "tags": []
     },
     "output_type": "execute_result"
    }
   ],
   "source": [
    "# Well, 2 + 12 = 14, but we have one step left....\n",
    "slice_matrix_one * slice_matrix_two"
   ]
  },
  {
   "cell_type": "code",
   "execution_count": 0,
   "metadata": {
    "colab": {},
    "colab_type": "code",
    "id": "z8PnN1y02_pW"
   },
   "outputs": [],
   "source": [
    "# Can you figure out how to do it ? \n",
    "# if not, re-read this notebook, the answer is somewhere above ;-)\n",
    "result = (slice_matrix_one * slice_matrix_two)____  # complete this line\n",
    "assert result == 14"
   ]
  },
  {
   "cell_type": "markdown",
   "metadata": {
    "colab_type": "text",
    "id": "bqYMsN4MK9fv"
   },
   "source": [
    "Now, to go further, let's use broadcasting to multiply the first row by the entire matrix_two:"
   ]
  },
  {
   "cell_type": "code",
   "execution_count": 0,
   "metadata": {
    "colab": {
     "base_uri": "https://localhost:8080/",
     "height": 52
    },
    "colab_type": "code",
    "executionInfo": {
     "elapsed": 534,
     "status": "ok",
     "timestamp": 1585826937731,
     "user": {
      "displayName": "Benjamin Dubreu",
      "photoUrl": "",
      "userId": "16222355890821715977"
     },
     "user_tz": -120
    },
    "id": "a37awgHG8zUS",
    "outputId": "5f2fe8e4-cb04-47cc-9699-dd07e44c9ce3"
   },
   "outputs": [
    {
     "data": {
      "text/plain": [
       "array([[ 2, 12],\n",
       "       [ 5, 14]])"
      ]
     },
     "execution_count": 166,
     "metadata": {
      "tags": []
     },
     "output_type": "execute_result"
    }
   ],
   "source": [
    "matrix_one[0] * matrix_two.T"
   ]
  },
  {
   "cell_type": "markdown",
   "metadata": {
    "colab_type": "text",
    "id": "q9W98_rVLBm-"
   },
   "source": [
    "As you can see, summing over the first row will give you 14, and over the second 19\n",
    "\n",
    "If you don't get why we used the transpose, go again to http://matrixmultiplication.xyz/ and look what it does with the individual columns of the second matrix ;-)"
   ]
  },
  {
   "cell_type": "code",
   "execution_count": 0,
   "metadata": {
    "colab": {
     "base_uri": "https://localhost:8080/",
     "height": 52
    },
    "colab_type": "code",
    "executionInfo": {
     "elapsed": 915,
     "status": "ok",
     "timestamp": 1585827045138,
     "user": {
      "displayName": "Benjamin Dubreu",
      "photoUrl": "",
      "userId": "16222355890821715977"
     },
     "user_tz": -120
    },
    "id": "IjwedgQLKk4g",
    "outputId": "c87b0d29-b0f5-4924-8f3a-4176e2a38f35"
   },
   "outputs": [
    {
     "name": "stdout",
     "output_type": "stream",
     "text": [
      ".sum() alone doesn't work:\n"
     ]
    },
    {
     "data": {
      "text/plain": [
       "33"
      ]
     },
     "execution_count": 167,
     "metadata": {
      "tags": []
     },
     "output_type": "execute_result"
    }
   ],
   "source": [
    "# But how can we sum over only one row at a time ? \n",
    "print(\".sum() alone doesn't work:\")\n",
    "(matrix_one[0] * matrix_two.T).sum() "
   ]
  },
  {
   "cell_type": "code",
   "execution_count": 0,
   "metadata": {
    "colab": {
     "base_uri": "https://localhost:8080/",
     "height": 86
    },
    "colab_type": "code",
    "executionInfo": {
     "elapsed": 858,
     "status": "ok",
     "timestamp": 1585827092035,
     "user": {
      "displayName": "Benjamin Dubreu",
      "photoUrl": "",
      "userId": "16222355890821715977"
     },
     "user_tz": -120
    },
    "id": "W4qmnRnep8xw",
    "outputId": "8ed8522f-549e-4094-dace-b8b9a878d5d1"
   },
   "outputs": [
    {
     "name": "stdout",
     "output_type": "stream",
     "text": [
      "[[1 2 3]\n",
      " [4 5 6]]\n",
      "----------\n",
      " [5 7 9]\n"
     ]
    }
   ],
   "source": [
    "# Here is one neat trick:\n",
    "example_matrix = array([[1,2,3], [4,5,6]])\n",
    "print(example_matrix)\n",
    "print('-'*10)\n",
    "print('', example_matrix.sum(0))"
   ]
  },
  {
   "cell_type": "code",
   "execution_count": 0,
   "metadata": {
    "colab": {
     "base_uri": "https://localhost:8080/",
     "height": 34
    },
    "colab_type": "code",
    "executionInfo": {
     "elapsed": 580,
     "status": "ok",
     "timestamp": 1585827220763,
     "user": {
      "displayName": "Benjamin Dubreu",
      "photoUrl": "",
      "userId": "16222355890821715977"
     },
     "user_tz": -120
    },
    "id": "zlkPkEMB8y6d",
    "outputId": "63b71fb3-d1c6-446e-f619-4663f8b3751b"
   },
   "outputs": [
    {
     "data": {
      "text/plain": [
       "array([14, 19])"
      ]
     },
     "execution_count": 172,
     "metadata": {
      "tags": []
     },
     "output_type": "execute_result"
    }
   ],
   "source": [
    "# I just took the sum of example_matrix over each column \n",
    "# what could you change to make it sum over each row ? \n",
    "result = (matrix_one[0] * matrix_two.T).sum(_) \n",
    "\n",
    "assert (result == array([14, 19])).all()"
   ]
  },
  {
   "cell_type": "code",
   "execution_count": 0,
   "metadata": {
    "colab": {
     "base_uri": "https://localhost:8080/",
     "height": 52
    },
    "colab_type": "code",
    "executionInfo": {
     "elapsed": 886,
     "status": "ok",
     "timestamp": 1585827228848,
     "user": {
      "displayName": "Benjamin Dubreu",
      "photoUrl": "",
      "userId": "16222355890821715977"
     },
     "user_tz": -120
    },
    "id": "WRTflTHM3LhP",
    "outputId": "7fcdbe2a-e60c-4b72-f547-84e57a8b2e4a"
   },
   "outputs": [
    {
     "data": {
      "text/plain": [
       "array([[14., 19.],\n",
       "       [ 6.,  7.]])"
      ]
     },
     "execution_count": 173,
     "metadata": {
      "tags": []
     },
     "output_type": "execute_result"
    }
   ],
   "source": [
    "# So now, all you have to do is do this for each column and row:\n",
    "result = np.zeros([2, 2])\n",
    "\n",
    "for i, row in enumerate(matrix_one):\n",
    "    result[i] = (___ * __________._).___(_)\n",
    "result"
   ]
  },
  {
   "cell_type": "markdown",
   "metadata": {
    "colab_type": "text",
    "id": "nW_bYUo13K7X"
   },
   "source": [
    "# Why bother with this ? \n",
    "broadcasting is very powerful. If we were to do matrix-matrix multiplication using classic python with only for loops, here is how we would do it:"
   ]
  },
  {
   "cell_type": "code",
   "execution_count": 0,
   "metadata": {
    "colab": {},
    "colab_type": "code",
    "id": "m7T37tD_3KmA"
   },
   "outputs": [],
   "source": [
    "# Note: this code snippet is taken from last year part 2 of the course:\n",
    "def matmul(a,b):\n",
    "    ar,ac = a.shape # n_rows * n_cols\n",
    "    br,bc = b.shape\n",
    "    assert ac==br\n",
    "    c = torch.zeros(ar, bc)\n",
    "    for i in range(ar):\n",
    "        for j in range(bc):\n",
    "            for k in range(ac): # or br\n",
    "                c[i,j] += a[i,k] * b[k,j]\n",
    "    return c"
   ]
  },
  {
   "cell_type": "code",
   "execution_count": 0,
   "metadata": {
    "colab": {},
    "colab_type": "code",
    "id": "558RD8O93J9_"
   },
   "outputs": [],
   "source": [
    "# Let's take two 5by5 matrices:\n",
    "m1 = torch.randn(5, 5)\n",
    "m2 = torch.randn(5, 5)"
   ]
  },
  {
   "cell_type": "code",
   "execution_count": 0,
   "metadata": {
    "colab": {
     "base_uri": "https://localhost:8080/",
     "height": 34
    },
    "colab_type": "code",
    "executionInfo": {
     "elapsed": 2382,
     "status": "ok",
     "timestamp": 1585830364757,
     "user": {
      "displayName": "Benjamin Dubreu",
      "photoUrl": "",
      "userId": "16222355890821715977"
     },
     "user_tz": -120
    },
    "id": "K_Kxmdxu1uuf",
    "outputId": "f2e6246f-1c93-4aca-f078-9ec682a0cc3b"
   },
   "outputs": [
    {
     "name": "stdout",
     "output_type": "stream",
     "text": [
      "100 loops, best of 3: 3.43 ms per loop\n"
     ]
    }
   ],
   "source": [
    "%%timeit\n",
    "matmul(m1, m2)"
   ]
  },
  {
   "cell_type": "code",
   "execution_count": 0,
   "metadata": {
    "colab": {},
    "colab_type": "code",
    "id": "Mkqsc6ao1103"
   },
   "outputs": [],
   "source": [
    "# Now, let's try again with broadcasting:\n",
    "def matmul(a,b):\n",
    "    ar,ac = a.shape\n",
    "    br,bc = b.shape\n",
    "    assert ac==br\n",
    "    c = torch.zeros(ar, bc)\n",
    "    for i in range(ar):  # note that we removed two for loops\n",
    "        c[i]   = (a[i  ].unsqueeze(-1) * b).sum(dim=0)\n",
    "    return c"
   ]
  },
  {
   "cell_type": "code",
   "execution_count": 0,
   "metadata": {
    "colab": {
     "base_uri": "https://localhost:8080/",
     "height": 52
    },
    "colab_type": "code",
    "executionInfo": {
     "elapsed": 5962,
     "status": "ok",
     "timestamp": 1585830372949,
     "user": {
      "displayName": "Benjamin Dubreu",
      "photoUrl": "",
      "userId": "16222355890821715977"
     },
     "user_tz": -120
    },
    "id": "Cc3n5ORT13Bx",
    "outputId": "c92d7146-04df-41c7-e862-01dbf0dcdd21"
   },
   "outputs": [
    {
     "name": "stdout",
     "output_type": "stream",
     "text": [
      "The slowest run took 15.43 times longer than the fastest. This could mean that an intermediate result is being cached.\n",
      "10000 loops, best of 3: 117 µs per loop\n"
     ]
    }
   ],
   "source": [
    "%%timeit\n",
    "matmul(m1, m2)"
   ]
  },
  {
   "cell_type": "markdown",
   "metadata": {
    "colab_type": "text",
    "id": "9zoezcOQ12-0"
   },
   "source": [
    "We went down from miliseconds to microseconds! that's more than 1000 times faster ! "
   ]
  },
  {
   "cell_type": "markdown",
   "metadata": {
    "colab_type": "text",
    "id": "UpIeGR1Y128L"
   },
   "source": [
    "<blockquote> \"Well, okay, but I'll probably never write matrix multiplications myself, so what's the point ?\" </blockquote>"
   ]
  },
  {
   "cell_type": "markdown",
   "metadata": {
    "colab_type": "text",
    "id": "b6YY_6Do5bhJ"
   },
   "source": [
    "## Why bother with this (2) ?"
   ]
  },
  {
   "cell_type": "markdown",
   "metadata": {
    "colab_type": "text",
    "id": "BT_Z02s212zC"
   },
   "source": [
    "That's true, but here is another example of how being good at tensor/arrays manipulation can help you:\n",
    "\n",
    "- Suppose you have <a href='https://www.kaggle.com/c/rsna-intracranial-hemorrhage-detection'>600 000 images of brain CT scans</a>.\n",
    "- using show_batch, you realize one is fully black !\n",
    "- that could screw your model, so you want to remove all the images that are all black. How could you do that ?"
   ]
  },
  {
   "cell_type": "code",
   "execution_count": 0,
   "metadata": {
    "colab": {
     "base_uri": "https://localhost:8080/",
     "height": 34
    },
    "colab_type": "code",
    "executionInfo": {
     "elapsed": 1055,
     "status": "ok",
     "timestamp": 1585830672607,
     "user": {
      "displayName": "Benjamin Dubreu",
      "photoUrl": "",
      "userId": "16222355890821715977"
     },
     "user_tz": -120
    },
    "id": "BSMqTdK23rEX",
    "outputId": "e82607a8-0de8-40f6-e4a1-937e17fea437"
   },
   "outputs": [
    {
     "data": {
      "text/plain": [
       "torch.Size([3, 800, 800])"
      ]
     },
     "execution_count": 197,
     "metadata": {
      "tags": []
     },
     "output_type": "execute_result"
    }
   ],
   "source": [
    "my_screwed_ct_brainscan = torch.zeros([3, 800, 800])  # three channels, 800x800 images\n",
    "my_screwed_ct_brainscan.shape"
   ]
  },
  {
   "cell_type": "markdown",
   "metadata": {
    "colab_type": "text",
    "id": "XEQQhKgs38HK"
   },
   "source": [
    "Well, if you have paid attention to the \"assert\" test I create in the cells you have to complete, you'll have noticed that I use the .all() method.\n",
    "\n",
    "What does it do ?"
   ]
  },
  {
   "cell_type": "code",
   "execution_count": 0,
   "metadata": {
    "colab": {
     "base_uri": "https://localhost:8080/",
     "height": 416
    },
    "colab_type": "code",
    "executionInfo": {
     "elapsed": 997,
     "status": "ok",
     "timestamp": 1585830749793,
     "user": {
      "displayName": "Benjamin Dubreu",
      "photoUrl": "",
      "userId": "16222355890821715977"
     },
     "user_tz": -120
    },
    "id": "Kt7XWiT44Iuk",
    "outputId": "5c7848c8-ad60-4c12-d8d4-327ed8194fc3"
   },
   "outputs": [
    {
     "data": {
      "text/plain": [
       "tensor([[[True, True, True,  ..., True, True, True],\n",
       "         [True, True, True,  ..., True, True, True],\n",
       "         [True, True, True,  ..., True, True, True],\n",
       "         ...,\n",
       "         [True, True, True,  ..., True, True, True],\n",
       "         [True, True, True,  ..., True, True, True],\n",
       "         [True, True, True,  ..., True, True, True]],\n",
       "\n",
       "        [[True, True, True,  ..., True, True, True],\n",
       "         [True, True, True,  ..., True, True, True],\n",
       "         [True, True, True,  ..., True, True, True],\n",
       "         ...,\n",
       "         [True, True, True,  ..., True, True, True],\n",
       "         [True, True, True,  ..., True, True, True],\n",
       "         [True, True, True,  ..., True, True, True]],\n",
       "\n",
       "        [[True, True, True,  ..., True, True, True],\n",
       "         [True, True, True,  ..., True, True, True],\n",
       "         [True, True, True,  ..., True, True, True],\n",
       "         ...,\n",
       "         [True, True, True,  ..., True, True, True],\n",
       "         [True, True, True,  ..., True, True, True],\n",
       "         [True, True, True,  ..., True, True, True]]])"
      ]
     },
     "execution_count": 198,
     "metadata": {
      "tags": []
     },
     "output_type": "execute_result"
    }
   ],
   "source": [
    "my_screwed_ct_brainscan == 0 "
   ]
  },
  {
   "cell_type": "markdown",
   "metadata": {
    "colab_type": "text",
    "id": "ZnHmmp_E4Plc"
   },
   "source": [
    "Above, I am using broadcasting to check whether <b>each individual pixel</b> of my ct_scan == 0 (I compare a tensor to a single scalar: broadcasting again). Problem, there are 3 * 800 * 800 pixels:"
   ]
  },
  {
   "cell_type": "code",
   "execution_count": 0,
   "metadata": {
    "colab": {
     "base_uri": "https://localhost:8080/",
     "height": 34
    },
    "colab_type": "code",
    "executionInfo": {
     "elapsed": 913,
     "status": "ok",
     "timestamp": 1585830821776,
     "user": {
      "displayName": "Benjamin Dubreu",
      "photoUrl": "",
      "userId": "16222355890821715977"
     },
     "user_tz": -120
    },
    "id": "JWC6qE4F4eZk",
    "outputId": "a1e58426-d71b-4761-aeb2-7f8f2f352604"
   },
   "outputs": [
    {
     "data": {
      "text/plain": [
       "1920000"
      ]
     },
     "execution_count": 199,
     "metadata": {
      "tags": []
     },
     "output_type": "execute_result"
    }
   ],
   "source": [
    "3 * 800 * 800 "
   ]
  },
  {
   "cell_type": "markdown",
   "metadata": {
    "colab_type": "text",
    "id": "5MRuRnD44gVz"
   },
   "source": [
    "So manually checking  1 920 000 pixels to see whether they are true doesn't seem really practical right ? \n",
    "\n",
    "Enters .all():\n"
   ]
  },
  {
   "cell_type": "code",
   "execution_count": 0,
   "metadata": {
    "colab": {
     "base_uri": "https://localhost:8080/",
     "height": 34
    },
    "colab_type": "code",
    "executionInfo": {
     "elapsed": 776,
     "status": "ok",
     "timestamp": 1585830956430,
     "user": {
      "displayName": "Benjamin Dubreu",
      "photoUrl": "",
      "userId": "16222355890821715977"
     },
     "user_tz": -120
    },
    "id": "dBgjAHeK43Ax",
    "outputId": "dc72f15b-0190-4917-c2b0-d25308d73e60"
   },
   "outputs": [
    {
     "data": {
      "text/plain": [
       "tensor(True)"
      ]
     },
     "execution_count": 201,
     "metadata": {
      "tags": []
     },
     "output_type": "execute_result"
    }
   ],
   "source": [
    "# This will return True only if ALL the pixels satisfy the condition: \n",
    "(my_screwed_ct_brainscan == 0 ).all()"
   ]
  },
  {
   "cell_type": "markdown",
   "metadata": {
    "colab_type": "text",
    "id": "xePDUbIF5BGV"
   },
   "source": [
    "Here, I created the picture myself, so we knew it was only zeroes all along.\n",
    "\n",
    "But this approach helped me iterate through 600 000 images with a little for loop in less than 20 minutes and clean my dataset. Some other tricks like that helped me secure a 84th place in the ranking, thus rewarding me with a Kaggle bronze medal ;)"
   ]
  },
  {
   "cell_type": "markdown",
   "metadata": {
    "colab_type": "text",
    "id": "_gBcSgWE6RIV"
   },
   "source": [
    "That being said, I am open to suggestions. If you think this notebook is too heavy for beginners, feel free to provide your feedback in the forums ;)"
   ]
  },
  {
   "cell_type": "code",
   "execution_count": 0,
   "metadata": {
    "colab": {},
    "colab_type": "code",
    "id": "VdYVPZf26Z6-"
   },
   "outputs": [],
   "source": []
  }
 ],
 "metadata": {
  "colab": {
   "authorship_tag": "ABX9TyMvSRfm2ekFR1x6edkbhwTn",
   "collapsed_sections": [],
   "name": "Lesson3_ArraysAndTensors.ipynb",
   "provenance": []
  },
  "kernelspec": {
   "display_name": "Python 3",
   "language": "python",
   "name": "python3"
  },
  "language_info": {
   "codemirror_mode": {
    "name": "ipython",
    "version": 3
   },
   "file_extension": ".py",
   "mimetype": "text/x-python",
   "name": "python",
   "nbconvert_exporter": "python",
   "pygments_lexer": "ipython3",
   "version": "3.7.1"
  }
 },
 "nbformat": 4,
 "nbformat_minor": 1
}
